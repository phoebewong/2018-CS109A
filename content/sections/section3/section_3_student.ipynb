{
 "cells": [
  {
   "cell_type": "markdown",
   "metadata": {
    "colab_type": "text",
    "id": "InJYthzSP5BG"
   },
   "source": [
    "# <img style=\"float: left; padding-right: 10px; width: 45px\" src=\"https://raw.githubusercontent.com/Harvard-IACS/2018-CS109A/master/content/styles/iacs.png\"> CS109A Introduction to Data Science\n",
    "\n",
    "## Standard Section 3: Predictor types and Feature Selection\n",
    "\n",
    "\n",
    "**Harvard University**<br/>\n",
    "**Fall 2018**<br/>\n",
    "**Instructors:** Pavlos Protopapas, Kevin Rader<br/>\n",
    "**Section Leaders:** Mehul Smriti Raje, Ken Arnold, Karan Motwani, Cecilia Garraffo<br/>"
   ]
  },
  {
   "cell_type": "code",
   "execution_count": 11,
   "metadata": {
    "colab": {
     "base_uri": "https://localhost:8080/",
     "height": 17
    },
    "colab_type": "code",
    "id": "RC0Gid-wP5BH",
    "outputId": "25d33127-f718-4d41-d6ec-f66a88623a38"
   },
   "outputs": [
    {
     "data": {
      "text/html": [
       "<style>\n",
       "h1 { \n",
       "    padding-top: 25px;\n",
       "    padding-bottom: 25px;\n",
       "    text-align: left; \n",
       "    padding-left: 10px;\n",
       "    background-color: #DDDDDD; \n",
       "    color: black;\n",
       "}\n",
       "h2 { \n",
       "    padding-top: 10px;\n",
       "    padding-bottom: 10px;\n",
       "    text-align: left; \n",
       "    padding-left: 5px;\n",
       "    background-color: #EEEEEE; \n",
       "    color: black;\n",
       "}\n",
       "\n",
       "div.exercise {\n",
       "\tbackground-color: #ffcccc;\n",
       "\tborder-color: #E9967A; \t\n",
       "\tborder-left: 5px solid #800080; \n",
       "\tpadding: 0.5em;\n",
       "}\n",
       "div.theme {\n",
       "\tbackground-color: #DDDDDD;\n",
       "\tborder-color: #E9967A; \t\n",
       "\tborder-left: 5px solid #800080; \n",
       "\tpadding: 0.5em;\n",
       "\tfont-size: 18pt;\n",
       "}\n",
       "p.q1 { \n",
       "    padding-top: 5px;\n",
       "    padding-bottom: 5px;\n",
       "    text-align: left; \n",
       "    padding-left: 5px;\n",
       "    background-color: #EEEEEE; \n",
       "    color: black;\n",
       "}\n",
       "header {\n",
       "   padding-top: 35px;\n",
       "    padding-bottom: 35px;\n",
       "    text-align: left; \n",
       "    padding-left: 10px;\n",
       "    background-color: #DDDDDD; \n",
       "    color: black;\n",
       "}\n",
       "</style>\n",
       "\n"
      ],
      "text/plain": [
       "<IPython.core.display.HTML object>"
      ]
     },
     "execution_count": 11,
     "metadata": {},
     "output_type": "execute_result"
    }
   ],
   "source": [
    "#RUN THIS CELL \n",
    "import requests\n",
    "from IPython.core.display import HTML\n",
    "styles = requests.get(\"http://raw.githubusercontent.com/Harvard-IACS/2018-CS109A/master/content/styles/cs109.css\").text\n",
    "HTML(styles)"
   ]
  },
<<<<<<< HEAD
  {
   "cell_type": "markdown",
   "metadata": {
    "colab_type": "text",
    "id": "6j9jYbUHP5BM"
   },
   "source": [
    "For this section, our goal is to discuss the complexities around different types of data features and thinking carefully about how different datatypes and collinearity issues can affect our models, whether our true goal is inference or prediction.\n",
    "\n",
    "Specifically, we will: \n",
    "    \n",
    "    1. Discuss different variable types, and techniques of “one-hot-encoding” our factor variables \n",
    "    2. Build a variable selection function that performs an exhaustive feature search overall all possible combinations of predictors \n"
   ]
  },
  {
   "cell_type": "markdown",
   "metadata": {
    "colab_type": "text",
    "id": "nQ785f0zP5BN"
   },
   "source": [
    "For this section we will be using the following packages:"
   ]
  },
  {
   "cell_type": "code",
   "execution_count": 12,
   "metadata": {
    "colab": {
     "base_uri": "https://localhost:8080/",
     "height": 70
    },
    "colab_type": "code",
    "id": "JfEq-JgsP5BO",
    "outputId": "f8822af7-e3c6-4363-d9ca-0538137a7862"
   },
   "outputs": [],
   "source": [
    "#Check Python Version\n",
    "import sys\n",
    "assert(sys.version_info.major==3), print(sys.version)\n",
    "\n",
    "# Data and Stats packages\n",
    "import numpy as np\n",
    "import pandas as pd\n",
    "from sklearn import metrics, datasets\n",
    "from sklearn.model_selection import train_test_split\n",
    "import statsmodels.api as sm # RUNNING FOR ME (MSR)\n",
    "\n",
    "# Visualization packages\n",
    "%matplotlib inline\n",
    "import matplotlib\n",
    "import matplotlib.pyplot as plt\n",
    "import matplotlib.patches as mpatches\n",
    "import seaborn as sns\n",
    "matplotlib.rcParams['figure.figsize'] = (13.0, 6.0)\n",
    "\n",
    "# Other Helpful fucntions\n",
    "import itertools\n",
    "import warnings\n",
    "warnings.filterwarnings(\"ignore\")\n",
    "\n",
    "#Aesthetic settings\n",
    "from IPython.display import display\n",
    "pd.set_option('display.max_rows', 999)\n",
    "pd.set_option('display.width', 500)\n",
    "pd.set_option('display.notebook_repr_html', True)"
   ]
  },
  {
   "cell_type": "markdown",
   "metadata": {
    "colab_type": "text",
    "id": "7IhthgP5P5CH"
   },
   "source": [
    "## 1. Extending Linear Regression by Transforming Predictors"
   ]
  },
  {
   "cell_type": "markdown",
   "metadata": {
    "colab_type": "text",
    "id": "I7jCXcNmP5CI"
   },
   "source": [
    "Linear regression works great when our features are all continuous and all linearly affect the output. But often real data have more interesting characteristics. Here, we'll look at how we can extend linear regression to handle:\n",
    "\n",
    "* Categorical predictors, like gender, which have one of a few discrete values\n",
    "* Interactions between predictors, which let us model how one variable changes the effect of another.\n",
    "\n",
    "For our dataset, we'll be using the passenger list from the Titanic, which famously sank in 1912. Let's have a look at the data. Some descriptions of the data are at https://www.kaggle.com/c/titanic/data, and here's [how seaborn preprocessed it](https://github.com/mwaskom/seaborn-data/blob/master/process/titanic.py)."
   ]
  },
  {
   "cell_type": "code",
   "execution_count": 13,
   "metadata": {
    "colab": {
     "base_uri": "https://localhost:8080/",
     "height": 215
    },
    "colab_type": "code",
    "id": "k3N2ECgfP5CI",
    "outputId": "49829d5b-c837-47e4-b862-106ec201bb26"
   },
   "outputs": [
    {
     "data": {
      "text/html": [
       "<div>\n",
       "<style scoped>\n",
       "    .dataframe tbody tr th:only-of-type {\n",
       "        vertical-align: middle;\n",
       "    }\n",
       "\n",
       "    .dataframe tbody tr th {\n",
       "        vertical-align: top;\n",
       "    }\n",
       "\n",
       "    .dataframe thead th {\n",
       "        text-align: right;\n",
       "    }\n",
       "</style>\n",
       "<table border=\"1\" class=\"dataframe\">\n",
       "  <thead>\n",
       "    <tr style=\"text-align: right;\">\n",
       "      <th></th>\n",
       "      <th>survived</th>\n",
       "      <th>pclass</th>\n",
       "      <th>sex</th>\n",
       "      <th>age</th>\n",
       "      <th>sibsp</th>\n",
       "      <th>parch</th>\n",
       "      <th>fare</th>\n",
       "      <th>embarked</th>\n",
       "      <th>class</th>\n",
       "      <th>who</th>\n",
       "      <th>adult_male</th>\n",
       "      <th>deck</th>\n",
       "      <th>embark_town</th>\n",
       "      <th>alive</th>\n",
       "      <th>alone</th>\n",
       "    </tr>\n",
       "  </thead>\n",
       "  <tbody>\n",
       "    <tr>\n",
       "      <th>0</th>\n",
       "      <td>0</td>\n",
       "      <td>3</td>\n",
       "      <td>male</td>\n",
       "      <td>22.0</td>\n",
       "      <td>1</td>\n",
       "      <td>0</td>\n",
       "      <td>7.2500</td>\n",
       "      <td>S</td>\n",
       "      <td>Third</td>\n",
       "      <td>man</td>\n",
       "      <td>True</td>\n",
       "      <td>NaN</td>\n",
       "      <td>Southampton</td>\n",
       "      <td>no</td>\n",
       "      <td>False</td>\n",
       "    </tr>\n",
       "    <tr>\n",
       "      <th>1</th>\n",
       "      <td>1</td>\n",
       "      <td>1</td>\n",
       "      <td>female</td>\n",
       "      <td>38.0</td>\n",
       "      <td>1</td>\n",
       "      <td>0</td>\n",
       "      <td>71.2833</td>\n",
       "      <td>C</td>\n",
       "      <td>First</td>\n",
       "      <td>woman</td>\n",
       "      <td>False</td>\n",
       "      <td>C</td>\n",
       "      <td>Cherbourg</td>\n",
       "      <td>yes</td>\n",
       "      <td>False</td>\n",
       "    </tr>\n",
       "    <tr>\n",
       "      <th>2</th>\n",
       "      <td>1</td>\n",
       "      <td>3</td>\n",
       "      <td>female</td>\n",
       "      <td>26.0</td>\n",
       "      <td>0</td>\n",
       "      <td>0</td>\n",
       "      <td>7.9250</td>\n",
       "      <td>S</td>\n",
       "      <td>Third</td>\n",
       "      <td>woman</td>\n",
       "      <td>False</td>\n",
       "      <td>NaN</td>\n",
       "      <td>Southampton</td>\n",
       "      <td>yes</td>\n",
       "      <td>True</td>\n",
       "    </tr>\n",
       "    <tr>\n",
       "      <th>3</th>\n",
       "      <td>1</td>\n",
       "      <td>1</td>\n",
       "      <td>female</td>\n",
       "      <td>35.0</td>\n",
       "      <td>1</td>\n",
       "      <td>0</td>\n",
       "      <td>53.1000</td>\n",
       "      <td>S</td>\n",
       "      <td>First</td>\n",
       "      <td>woman</td>\n",
       "      <td>False</td>\n",
       "      <td>C</td>\n",
       "      <td>Southampton</td>\n",
       "      <td>yes</td>\n",
       "      <td>False</td>\n",
       "    </tr>\n",
       "    <tr>\n",
       "      <th>4</th>\n",
       "      <td>0</td>\n",
       "      <td>3</td>\n",
       "      <td>male</td>\n",
       "      <td>35.0</td>\n",
       "      <td>0</td>\n",
       "      <td>0</td>\n",
       "      <td>8.0500</td>\n",
       "      <td>S</td>\n",
       "      <td>Third</td>\n",
       "      <td>man</td>\n",
       "      <td>True</td>\n",
       "      <td>NaN</td>\n",
       "      <td>Southampton</td>\n",
       "      <td>no</td>\n",
       "      <td>True</td>\n",
       "    </tr>\n",
       "  </tbody>\n",
       "</table>\n",
       "</div>"
      ],
      "text/plain": [
       "   survived  pclass     sex   age  sibsp  parch     fare embarked  class    who  adult_male deck  embark_town alive  alone\n",
       "0         0       3    male  22.0      1      0   7.2500        S  Third    man        True  NaN  Southampton    no  False\n",
       "1         1       1  female  38.0      1      0  71.2833        C  First  woman       False    C    Cherbourg   yes  False\n",
       "2         1       3  female  26.0      0      0   7.9250        S  Third  woman       False  NaN  Southampton   yes   True\n",
       "3         1       1  female  35.0      1      0  53.1000        S  First  woman       False    C  Southampton   yes  False\n",
       "4         0       3    male  35.0      0      0   8.0500        S  Third    man        True  NaN  Southampton    no   True"
      ]
     },
     "execution_count": 13,
     "metadata": {},
     "output_type": "execute_result"
    }
   ],
   "source": [
    "# Load the dataset from seaborn \n",
    "titanic = sns.load_dataset(\"titanic\")\n",
    "titanic.head()"
   ]
  },
  {
   "cell_type": "code",
   "execution_count": 14,
   "metadata": {
    "colab": {},
    "colab_type": "code",
    "id": "N3l0V_QDXdrf"
   },
   "outputs": [],
   "source": [
    "# Keep only a subset of the predictors; some are redundant, others (like deck) have too many missing values.\n",
    "titanic = titanic[['age', 'sex', 'class', 'embark_town', 'alone', 'fare']]"
   ]
  },
  {
   "cell_type": "code",
   "execution_count": 15,
   "metadata": {
    "colab": {
     "base_uri": "https://localhost:8080/",
     "height": 170
    },
    "colab_type": "code",
    "id": "uiDggiVkRlOU",
    "outputId": "640db74c-84e5-49ad-f1fd-99ecbe1d651a"
   },
   "outputs": [
    {
     "name": "stdout",
     "output_type": "stream",
     "text": [
      "<class 'pandas.core.frame.DataFrame'>\n",
      "RangeIndex: 891 entries, 0 to 890\n",
      "Data columns (total 6 columns):\n",
      "age            714 non-null float64\n",
      "sex            891 non-null object\n",
      "class          891 non-null category\n",
      "embark_town    889 non-null object\n",
      "alone          891 non-null bool\n",
      "fare           891 non-null float64\n",
      "dtypes: bool(1), category(1), float64(2), object(2)\n",
      "memory usage: 29.8+ KB\n"
     ]
    }
   ],
   "source": [
    "titanic.info()"
   ]
  },
  {
   "cell_type": "code",
   "execution_count": 16,
   "metadata": {
    "colab": {
     "base_uri": "https://localhost:8080/",
     "height": 170
    },
    "colab_type": "code",
    "id": "x2wvtyO-R59v",
    "outputId": "4c84571c-2ebf-4608-fda8-e7a4f3402049"
   },
   "outputs": [
    {
     "name": "stdout",
     "output_type": "stream",
     "text": [
      "<class 'pandas.core.frame.DataFrame'>\n",
      "Int64Index: 712 entries, 0 to 890\n",
      "Data columns (total 6 columns):\n",
      "age            712 non-null float64\n",
      "sex            712 non-null object\n",
      "class          712 non-null category\n",
      "embark_town    712 non-null object\n",
      "alone          712 non-null bool\n",
      "fare           712 non-null float64\n",
      "dtypes: bool(1), category(1), float64(2), object(2)\n",
      "memory usage: 29.3+ KB\n"
     ]
    }
   ],
   "source": [
    "# Drop missing data (is this a good idea?)\n",
    "titanic = titanic.dropna()\n",
    "titanic.info()"
   ]
  },
  {
   "cell_type": "markdown",
   "metadata": {
    "colab_type": "text",
    "id": "ibT2p_BzeHwT"
   },
   "source": [
    "Let's explore this data. Most people look at differences in survival, which is important but requires knowing how to deal with categorical responses, which we'll learn how to do next week. For this week, let's see if there are systematic differences in what fare people paid."
   ]
  },
  {
   "cell_type": "markdown",
   "metadata": {
    "colab_type": "text",
    "id": "NPQpANf2eZ0Z"
   },
   "source": [
    "First let's look at the distribution of fares."
   ]
  },
  {
   "cell_type": "markdown",
   "metadata": {},
   "source": [
    "<div class=\"exercise\">**Exercise 1**: Show the distribution of fares in at least two ways. You may use functions from matplotlib, Pandas, or Seaborn.</div>"
   ]
  },
  {
   "cell_type": "code",
   "execution_count": 17,
   "metadata": {
    "colab": {
     "base_uri": "https://localhost:8080/",
     "height": 170
    },
    "colab_type": "code",
    "id": "gE1Zjgf_edU5",
    "outputId": "c0851f01-9477-4626-bb81-3dcfdb11fc51"
   },
   "outputs": [],
   "source": [
    "# Your code here\n"
   ]
  },
  {
   "cell_type": "code",
   "execution_count": 18,
   "metadata": {
    "colab": {
     "base_uri": "https://localhost:8080/",
     "height": 296
    },
    "colab_type": "code",
    "id": "fhbC0FXiZJIt",
    "outputId": "d822cc3b-9563-4513-8fe2-df26b2068696"
   },
   "outputs": [],
   "source": [
    "# Your code here\n"
   ]
  },
  {
   "cell_type": "markdown",
   "metadata": {
    "colab_type": "text",
    "id": "jdb0KU9ofkPf"
   },
   "source": [
    "What do we learn from each visualization? Which is most helpful?\n",
    "\n",
    "What can we say about the fares that passengers paid?"
   ]
  },
  {
   "cell_type": "markdown",
   "metadata": {},
   "source": [
    "### Exploring predictors"
   ]
  },
  {
   "cell_type": "markdown",
   "metadata": {
    "colab_type": "text",
    "id": "K1vgnVjXfL6B"
   },
   "source": [
    "Cabin class is probably going to matter for fare, but we might wonder if age and gender also matter. Let's explore them."
   ]
  },
  {
   "cell_type": "code",
   "execution_count": 19,
   "metadata": {
    "colab": {
     "base_uri": "https://localhost:8080/",
     "height": 296
=======
  "nbformat": 4,
  "nbformat_minor": 1,
  "cells": [
    {
      "cell_type": "markdown",
      "metadata": {
        "colab_type": "text",
        "id": "InJYthzSP5BG"
      },
      "source": [
        "# <img style=\"float: left; padding-right: 10px; width: 45px\" src=\"https://raw.githubusercontent.com/Harvard-IACS/2018-CS109A/master/content/styles/iacs.png\"> CS109A Introduction to Data Science\n",
        "\n",
        "## Standard Section 3: Predictor types and Feature Selection\n",
        "\n",
        "\n",
        "**Harvard University**<br/>\n",
        "**Fall 2018**<br/>\n",
        "**Instructors:** Pavlos Protopapas, Kevin Rader<br/>\n",
        "**Section Leaders:** Mehul Smriti Raje, Ken Arnold, Karan Motwani, Cecilia Garraffo<br/>"
      ]
    },
    {
      "cell_type": "code",
      "execution_count": 1,
      "metadata": {
        "colab": {
          "base_uri": "https://localhost:8080/",
          "height": 17
        },
        "colab_type": "code",
        "id": "RC0Gid-wP5BH",
        "outputId": "25d33127-f718-4d41-d6ec-f66a88623a38"
      },
      "outputs": [],
      "source": [
        "#RUN THIS CELL \n",
        "import requests\n",
        "from IPython.core.display import HTML\n",
        "styles = requests.get(\"http://raw.githubusercontent.com/Harvard-IACS/2018-CS109A/master/content/styles/cs109.css\").text\n",
        "HTML(styles)"
      ]
    },
    {
      "cell_type": "markdown",
      "metadata": {
        "colab_type": "text",
        "id": "6j9jYbUHP5BM"
      },
      "source": [
        "For this section, our goal is to discuss the complexities around different types of data features and thinking carefully about how different datatypes and collinearity issues can affect our models, whether our true goal is inference or prediction.\n",
        "\n",
        "Specifically, we will: \n",
        "    \n",
        "    1. Discuss different variable types, and techniques of \u201cone-hot-encoding\u201d our factor variables \n",
        "    2. Build a variable selection function that performs an exhaustive feature search overall all possible combinations of predictors \n"
      ]
    },
    {
      "cell_type": "markdown",
      "metadata": {
        "colab_type": "text",
        "id": "nQ785f0zP5BN"
      },
      "source": [
        "For this section we will be using the following packages:"
      ]
    },
    {
      "cell_type": "code",
      "execution_count": 2,
      "metadata": {
        "colab": {
          "base_uri": "https://localhost:8080/",
          "height": 70
        },
        "colab_type": "code",
        "id": "JfEq-JgsP5BO",
        "outputId": "f8822af7-e3c6-4363-d9ca-0538137a7862"
      },
      "outputs": [],
      "source": [
        "#Check Python Version\n",
        "import sys\n",
        "assert(sys.version_info.major==3), print(sys.version)\n",
        "\n",
        "# Data and Stats packages\n",
        "import numpy as np\n",
        "import pandas as pd\n",
        "from sklearn import metrics, datasets\n",
        "from sklearn.model_selection import train_test_split\n",
        "import statsmodels.api as sm # RUNNING FOR ME (MSR)\n",
        "\n",
        "# Visualization packages\n",
        "%matplotlib inline\n",
        "import matplotlib\n",
        "import matplotlib.pyplot as plt\n",
        "import matplotlib.patches as mpatches\n",
        "import seaborn as sns\n",
        "matplotlib.rcParams['figure.figsize'] = (13.0, 6.0)\n",
        "\n",
        "# Other Helpful fucntions\n",
        "import itertools\n",
        "import warnings\n",
        "warnings.filterwarnings(\"ignore\")\n",
        "\n",
        "#Aesthetic settings\n",
        "from IPython.display import display\n",
        "pd.set_option('display.max_rows', 999)\n",
        "pd.set_option('display.width', 500)\n",
        "pd.set_option('display.notebook_repr_html', True)"
      ]
    },
    {
      "cell_type": "markdown",
      "metadata": {
        "colab_type": "text",
        "id": "7IhthgP5P5CH"
      },
      "source": [
        "## 1. Extending Linear Regression by Transforming Predictors"
      ]
    },
    {
      "cell_type": "markdown",
      "metadata": {
        "colab_type": "text",
        "id": "I7jCXcNmP5CI"
      },
      "source": [
        "Linear regression works great when our features are all continuous and all linearly affect the output. But often real data have more interesting characteristics. Here, we'll look at how we can extend linear regression to handle:\n",
        "\n",
        "* Categorical predictors, like gender, which have one of a few discrete values\n",
        "* Interactions between predictors, which let us model how one variable changes the effect of another.\n",
        "\n",
        "For our dataset, we'll be using the passenger list from the Titanic, which famously sank in 1912. Let's have a look at the data. Some descriptions of the data are at https://www.kaggle.com/c/titanic/data, and here's [how seaborn preprocessed it](https://github.com/mwaskom/seaborn-data/blob/master/process/titanic.py)."
      ]
    },
    {
      "cell_type": "code",
      "execution_count": 3,
      "metadata": {
        "colab": {
          "base_uri": "https://localhost:8080/",
          "height": 215
        },
        "colab_type": "code",
        "id": "k3N2ECgfP5CI",
        "outputId": "49829d5b-c837-47e4-b862-106ec201bb26"
      },
      "outputs": [],
      "source": [
        "# Load the dataset from seaborn \n",
        "titanic = sns.load_dataset(\"titanic\")\n",
        "titanic.head()"
      ]
    },
    {
      "cell_type": "code",
      "execution_count": 4,
      "metadata": {
        "colab": {},
        "colab_type": "code",
        "id": "N3l0V_QDXdrf"
      },
      "outputs": [],
      "source": [
        "# Keep only a subset of the predictors; some are redundant, others (like deck) have too many missing values.\n",
        "titanic = titanic[['age', 'sex', 'class', 'embark_town', 'alone', 'fare']]"
      ]
    },
    {
      "cell_type": "code",
      "execution_count": 5,
      "metadata": {
        "colab": {
          "base_uri": "https://localhost:8080/",
          "height": 170
        },
        "colab_type": "code",
        "id": "uiDggiVkRlOU",
        "outputId": "640db74c-84e5-49ad-f1fd-99ecbe1d651a"
      },
      "outputs": [],
      "source": [
        "titanic.info()"
      ]
    },
    {
      "cell_type": "code",
      "execution_count": 6,
      "metadata": {
        "colab": {
          "base_uri": "https://localhost:8080/",
          "height": 170
        },
        "colab_type": "code",
        "id": "x2wvtyO-R59v",
        "outputId": "4c84571c-2ebf-4608-fda8-e7a4f3402049"
      },
      "outputs": [],
      "source": [
        "# Drop missing data (is this a good idea?)\n",
        "titanic = titanic.dropna()\n",
        "titanic.info()"
      ]
    },
    {
      "cell_type": "markdown",
      "metadata": {
        "colab_type": "text",
        "id": "ibT2p_BzeHwT"
      },
      "source": [
        "Let's explore this data. Most people look at differences in survival, which is important but requires knowing how to deal with categorical responses, which we'll learn how to do next week. For this week, let's see if there are systematic differences in what fare people paid."
      ]
    },
    {
      "cell_type": "markdown",
      "metadata": {
        "colab_type": "text",
        "id": "NPQpANf2eZ0Z"
      },
      "source": [
        "First let's look at the distribution of fares."
      ]
    },
    {
      "cell_type": "markdown",
      "metadata": {},
      "source": [
        "<div class=\"exercise\">**Exercise 1**: Show the distribution of fares in at least two ways. You may use functions from matplotlib, Pandas, or Seaborn.</div>"
      ]
    },
    {
      "cell_type": "code",
      "execution_count": 7,
      "metadata": {
        "colab": {
          "base_uri": "https://localhost:8080/",
          "height": 170
        },
        "colab_type": "code",
        "id": "gE1Zjgf_edU5",
        "outputId": "c0851f01-9477-4626-bb81-3dcfdb11fc51"
      },
      "outputs": [],
      "source": [
        "# Your code here\n"
      ]
    },
    {
      "cell_type": "code",
      "execution_count": 8,
      "metadata": {
        "colab": {
          "base_uri": "https://localhost:8080/",
          "height": 296
        },
        "colab_type": "code",
        "id": "fhbC0FXiZJIt",
        "outputId": "d822cc3b-9563-4513-8fe2-df26b2068696"
      },
      "outputs": [],
      "source": [
        "# Your code here\n"
      ]
    },
    {
      "cell_type": "markdown",
      "metadata": {
        "colab_type": "text",
        "id": "jdb0KU9ofkPf"
      },
      "source": [
        "What do we learn from each visualization? Which is most helpful?\n",
        "\n",
        "What can we say about the fares that passengers paid?"
      ]
    },
    {
      "cell_type": "markdown",
      "metadata": {},
      "source": [
        "**Your answer here**\n"
      ]
    },
    {
      "cell_type": "markdown",
      "metadata": {},
      "source": [
        "### Exploring predictors"
      ]
    },
    {
      "cell_type": "markdown",
      "metadata": {
        "colab_type": "text",
        "id": "K1vgnVjXfL6B"
      },
      "source": [
        "Cabin class is probably going to matter for fare, but we might wonder if age and gender also matter. Let's explore them."
      ]
    },
    {
      "cell_type": "code",
      "execution_count": 9,
      "metadata": {
        "colab": {
          "base_uri": "https://localhost:8080/",
          "height": 296
        },
        "colab_type": "code",
        "id": "zYsj6roaRLdX",
        "outputId": "7221f900-2888-4f28-f835-02d84abcb7d9"
      },
      "outputs": [],
      "source": [
        "sns.distplot(titanic.age, rug=True, rug_kws={'alpha': .1, 'color': 'k'})"
      ]
    },
    {
      "cell_type": "code",
      "execution_count": 10,
      "metadata": {
        "colab": {
          "base_uri": "https://localhost:8080/",
          "height": 602
        },
        "colab_type": "code",
        "id": "gnSM0FbFSXcC",
        "outputId": "c3b4451c-92bc-4097-aa44-d5d2fd95becf"
      },
      "outputs": [],
      "source": [
        "sns.lmplot(x=\"age\", y=\"fare\", hue=\"sex\", data=titanic, size=8)"
      ]
    },
    {
      "cell_type": "markdown",
      "metadata": {},
      "source": [
        "Hmm... the slopes seem to be different for males and females. Remember this for later."
      ]
    },
    {
      "cell_type": "markdown",
      "metadata": {},
      "source": [
        "How about sex and class?"
      ]
    },
    {
      "cell_type": "code",
      "execution_count": 11,
      "metadata": {},
      "outputs": [],
      "source": [
        "titanic.sex.value_counts()"
      ]
    },
    {
      "cell_type": "code",
      "execution_count": 12,
      "metadata": {},
      "outputs": [],
      "source": [
        "titanic['class'].value_counts()\n",
        "# Why couldn't we write `titanic.class.value_counts()` here?"
      ]
    },
    {
      "cell_type": "code",
      "execution_count": 13,
      "metadata": {
        "colab": {
          "base_uri": "https://localhost:8080/",
          "height": 296
        },
        "colab_type": "code",
        "id": "SETvpblUTIfU",
        "outputId": "b9e76e3d-e8c8-4552-878b-d445969d3502"
      },
      "outputs": [],
      "source": [
        "sns.barplot(x=\"class\", hue=\"sex\", y=\"fare\", data=titanic)"
      ]
    },
    {
      "cell_type": "code",
      "execution_count": 14,
      "metadata": {
        "colab": {
          "base_uri": "https://localhost:8080/",
          "height": 298
        },
        "colab_type": "code",
        "id": "NYT9sIlIhKIH",
        "outputId": "07620610-bd21-4cdc-b8d6-26fd891d8b62"
      },
      "outputs": [],
      "source": [
        "sns.violinplot(x=\"class\", hue=\"sex\", y=\"fare\", data=titanic)"
      ]
    },
    {
      "cell_type": "markdown",
      "metadata": {},
      "source": [
        "## Aside: can we replicate that violin plot without Seaborn?"
      ]
    },
    {
      "cell_type": "code",
      "execution_count": 15,
      "metadata": {},
      "outputs": [],
      "source": [
        "# plt.violinplot takes an array of data arrays, and plots each one as a separate violin.\n",
        "# The data arrays don't have to be the same length.\n",
        "# It returns Matplotlib objects corresponding to each of the pieces of the visualization.\n",
        "plt.violinplot([\n",
        "    [0,1,2], \n",
        "    [10, 14, 9, 10, 10, 10],\n",
        "    [6]\n",
        "])"
      ]
    },
    {
      "cell_type": "code",
      "execution_count": 16,
      "metadata": {},
      "outputs": [],
      "source": [
        "# We can use Pandas queries to make datasets for each class.\n",
        "# We need to use `.values` to get plain Numpy arrays.\n",
        "classes = 'First Second Third'.split()\n",
        "plt.violinplot([\n",
        "    titanic['fare'][titanic['class'] == cls].values\n",
        "    for cls in classes\n",
        "])\n",
        "plt.xticks([1,2,3], classes)\n",
        "plt.xlabel(\"Ticket Class\")\n",
        "plt.ylabel(\"Fare\");"
      ]
    },
    {
      "cell_type": "code",
      "execution_count": 17,
      "metadata": {},
      "outputs": [],
      "source": [
        "# It gets a little more tricky when we want to plot the two sexes side-by-side.\n",
        "# Fortunately we can tell violinplot to place the violins at different positions.\n",
        "position_array = [0, 4, 5] # just to show the effect of the position array.\n",
        "plt.violinplot([\n",
        "    titanic['fare'][titanic['class'] == cls].values\n",
        "    for cls in classes\n",
        "], positions=position_array)\n",
        "#plt.xticks(position_array, classes)\n",
        "plt.xlabel(\"Ticket Class\")\n",
        "plt.ylabel(\"Fare\");"
      ]
    },
    {
      "cell_type": "code",
      "execution_count": 18,
      "metadata": {},
      "outputs": [],
      "source": [
        "# We can use the position array to shift the male and female violins.\n",
        "\n",
        "sexes = 'male female'.split()\n",
        "positions_array = np.arange(len(classes)) # this will be [0, 1, 2]\n",
        "for i, sex in enumerate(sexes):\n",
        "    offset = .15 * (-1 if i == 0 else 1)\n",
        "    violin = plt.violinplot([\n",
        "        titanic['fare'][(titanic['sex'] == sex) & (titanic['class'] == cls)].values\n",
        "        for cls in classes\n",
        "    ], positions=positions_array + offset, widths=.25, showmedians=True, showextrema=True)\n",
        "plt.xticks(positions_array, classes)\n",
        "plt.xlabel(\"Ticket Class\")\n",
        "plt.ylabel(\"Fare\");"
      ]
    },
    {
      "cell_type": "code",
      "execution_count": 19,
      "metadata": {},
      "outputs": [],
      "source": [
        "# But what about a legend? Unfortunately plt.violinplot doesn't support legends, so we\n",
        "# have to do it by hand.\n",
        "positions_array = np.arange(len(classes))\n",
        "fake_handles = []\n",
        "for i, sex in enumerate(sexes):\n",
        "    offset = .15 * (-1 if i == 0 else 1)\n",
        "    violin = plt.violinplot([\n",
        "        titanic['fare'][(titanic['sex'] == sex) & (titanic['class'] == cls)].values\n",
        "        for cls in classes\n",
        "    ], positions=positions_array + offset, widths=.25, showmedians=True, showextrema=True)\n",
        "    fake_handles.append(mpatches.Patch())\n",
        "plt.legend(fake_handles, sexes)\n",
        "plt.xticks(positions_array, classes)\n",
        "plt.xlabel(\"Ticket Class\")\n",
        "plt.ylabel(\"Fare\");"
      ]
    },
    {
      "cell_type": "code",
      "execution_count": 20,
      "metadata": {},
      "outputs": [],
      "source": [
        "# Dang, the colors are wrong. We'll have to use some hacky code to pull the color out of the violin...\n",
        "positions_array = np.arange(len(classes))\n",
        "fake_handles = []\n",
        "for i, sex in enumerate(sexes):\n",
        "    offset = .15 * (-1 if i == 0 else 1)\n",
        "    violin = plt.violinplot([\n",
        "        titanic['fare'][(titanic['sex'] == sex) & (titanic['class'] == cls)].values\n",
        "        for cls in classes\n",
        "    ], positions=positions_array + offset, widths=.25, showmedians=True, showextrema=True)\n",
        "    cur_violin_color = violin['cbars'].get_color()[0]\n",
        "    fake_handles.append(mpatches.Patch(color=cur_violin_color))\n",
        "plt.legend(fake_handles, sexes)\n",
        "plt.xticks(positions_array, classes)\n",
        "plt.xlabel(\"Ticket Class\")\n",
        "plt.ylabel(\"Fare\");"
      ]
    },
    {
      "cell_type": "code",
      "execution_count": 21,
      "metadata": {},
      "outputs": [],
      "source": [
        "# Or explicitly control the colors.\n",
        "colors = sns.color_palette(\"Set1\", n_colors=len(sexes), desat=.5)\n",
        "sns.palplot(colors)"
      ]
    },
    {
      "cell_type": "code",
      "execution_count": 22,
      "metadata": {},
      "outputs": [],
      "source": [
        "positions_array = np.arange(len(classes))\n",
        "fake_handles = []\n",
        "for i, sex in enumerate(sexes):\n",
        "    offset = .15 * (-1 if i == 0 else 1)\n",
        "    violin = plt.violinplot([\n",
        "        titanic['fare'][(titanic['sex'] == sex) & (titanic['class'] == cls)].values\n",
        "        for cls in classes\n",
        "    ], positions=positions_array + offset, widths=.25, showmedians=True, showextrema=True)\n",
        "\n",
        "    # Set the color\n",
        "    color = colors[i]\n",
        "    for part_name, part in violin.items():\n",
        "        if part_name == 'bodies':\n",
        "            for body in violin['bodies']:\n",
        "                body.set_color(color)\n",
        "        else:\n",
        "            part.set_color(color)\n",
        "    fake_handles.append(mpatches.Patch(color=color))\n",
        "\n",
        "plt.legend(fake_handles, sexes)\n",
        "plt.xticks(positions_array, classes)\n",
        "plt.xlabel(\"Ticket Class\")\n",
        "plt.ylabel(\"Fare\");"
      ]
    },
    {
      "cell_type": "markdown",
      "metadata": {},
      "source": [
        "## No more digression, back to regressions."
      ]
    },
    {
      "cell_type": "markdown",
      "metadata": {
        "colab_type": "text",
        "id": "fJK_rkcPTpD5"
      },
      "source": [
        "So it looks like fare varies with class, age, and maybe gender, and the way that fare depends on class and age may be different for male vs female.\n",
        "\n",
        "Let's first do a simple linear regression on age."
      ]
    },
    {
      "cell_type": "code",
      "execution_count": 23,
      "metadata": {
        "colab": {
          "base_uri": "https://localhost:8080/",
          "height": 444
        },
        "colab_type": "code",
        "id": "JudMdrUpTpbL",
        "outputId": "3ace581b-b847-40c8-a580-b580391b8b36"
      },
      "outputs": [],
      "source": [
        "model1 = sm.OLS(\n",
        "    titanic.fare,\n",
        "    sm.add_constant(titanic['age'])\n",
        ").fit()\n",
        "model1.summary()"
      ]
    },
    {
      "cell_type": "markdown",
      "metadata": {
        "colab_type": "text",
        "id": "zrHXCrJNf1xc"
      },
      "source": [
        "How do we interpret this?\n",
        "\n",
        "* How good is this model?\n",
        "* Does age affect fare? How can we tell? And if so, how?"
      ]
    },
    {
      "cell_type": "markdown",
      "metadata": {},
      "source": [
        "### Handling categorical variables"
      ]
    },
    {
      "cell_type": "markdown",
      "metadata": {
        "colab_type": "text",
        "id": "w8eMLGl7gNlP"
      },
      "source": [
        "Statistical packages generally distinguish between three types of variables:\n",
        "\n",
        "* **continuous** variables, like age and fare.\n",
        "* **nominal** variables, like gender and whether the person survived\n",
        "* **ordinal** variables like cabin class (first > second > third)\n",
        "\n",
        "(Ordinal variables can often be treated like nominal variables; that's what we'll do for now.)"
      ]
    },
    {
      "cell_type": "markdown",
      "metadata": {
        "colab_type": "text",
        "id": "ESeqInU9Tnt5"
      },
      "source": [
        "How do we deal with gender, or class? They're categorical variables. We'll need to use dummy variables to encode them."
      ]
    },
    {
      "cell_type": "code",
      "execution_count": 24,
      "metadata": {},
      "outputs": [],
      "source": [
        "titanic_orig = titanic.copy()"
      ]
    },
    {
      "cell_type": "markdown",
      "metadata": {},
      "source": [
        "<div class=\"exercise\">**Exercise 2**: Create a column `sex_male` that is 1 if the passenger is male, 0 otherwise.</div>"
      ]
    },
    {
      "cell_type": "code",
      "execution_count": 25,
      "metadata": {},
      "outputs": [],
      "source": [
        "# Your code here\n"
      ]
    },
    {
      "cell_type": "markdown",
      "metadata": {},
      "source": [
        "<div class=\"exercise\">**Exercise 3**: Do we need a `sex_female` column, or any others? Why or why not?</div>"
      ]
    },
    {
      "cell_type": "markdown",
      "metadata": {},
      "source": [
        "**your answer here**\n"
      ]
    },
    {
      "cell_type": "markdown",
      "metadata": {},
      "source": [
        "<div class=\"exercise\">**Exercise 4**: Create columns for `class_`</div>"
      ]
    },
    {
      "cell_type": "code",
      "execution_count": 26,
      "metadata": {},
      "outputs": [],
      "source": [
        "# Your code here\n"
      ]
    },
    {
      "cell_type": "code",
      "execution_count": 27,
      "metadata": {},
      "outputs": [],
      "source": [
        "titanic.info()"
      ]
    },
    {
      "cell_type": "code",
      "execution_count": 28,
      "metadata": {
        "colab": {
          "base_uri": "https://localhost:8080/",
          "height": 204
        },
        "colab_type": "code",
        "id": "qTxXqm6wW22a",
        "outputId": "e8f01d1a-ea5f-4711-a41f-96d92d13e507"
      },
      "outputs": [],
      "source": [
        "# Your code here\n"
      ]
    },
    {
      "cell_type": "markdown",
      "metadata": {},
      "source": [
        "<div class=\"exercise\">**Exercise 5**: Fit a linear regression including the new sex and class variables.</div>"
      ]
    },
    {
      "cell_type": "code",
      "execution_count": 29,
      "metadata": {
        "colab": {
          "base_uri": "https://localhost:8080/",
          "height": 507
        },
        "colab_type": "code",
        "id": "ZtEXD-ZWYGuT",
        "outputId": "b991b04a-5e5c-4080-b128-67b5415f8c50"
      },
      "outputs": [],
      "source": [
        "# Your code here\n"
      ]
    },
    {
      "cell_type": "markdown",
      "metadata": {
        "colab_type": "text",
        "id": "zl3IDAtqP5Ck"
      },
      "source": [
        "<div class='exercise'> **Exercise 6** How do we interpret these results?</div>\n",
        "* All else being equal, what does being male do to the fare?\n",
        "* What can we say about being *male* and *first-class*?\n"
      ]
    },
    {
      "cell_type": "markdown",
      "metadata": {},
      "source": [
        "** Your answer here **"
      ]
    },
    {
      "cell_type": "markdown",
      "metadata": {},
      "source": [
        "## Interactions"
      ]
    },
    {
      "cell_type": "code",
      "execution_count": 30,
      "metadata": {
        "colab": {
          "base_uri": "https://localhost:8080/",
          "height": 528
        },
        "colab_type": "code",
        "id": "8oRObtxEYlGi",
        "outputId": "ca3661e0-6f01-4128-9ecb-cd36775ae462"
      },
      "outputs": [],
      "source": [
        "# It seemed like gender interacted with age and class. Can we put that in our model?\n",
        "titanic['sex_male_X_age'] = titanic['age'] * titanic['sex_male']\n",
        "model3 = sm.OLS(\n",
        "    titanic.fare,\n",
        "    sm.add_constant(titanic[['age', 'sex_male', 'class_Second', 'class_Third', 'sex_male_X_age']])\n",
        ").fit()\n",
        "model3.summary()"
      ]
    },
    {
      "cell_type": "markdown",
      "metadata": {
        "colab": {},
        "colab_type": "code",
        "id": "uuOUlHs5Zdxr"
      },
      "source": [
        "** What happened to the `age` and `male` terms? **"
      ]
    },
    {
      "cell_type": "code",
      "execution_count": 31,
      "metadata": {
        "colab": {
          "base_uri": "https://localhost:8080/",
          "height": 570
        },
        "colab_type": "code",
        "id": "29Nbm25-ZoOj",
        "outputId": "91eb202e-6da3-4ecb-e76d-1d7a5b5a2617"
      },
      "outputs": [],
      "source": [
        "# It seemed like gender interacted with age and class. Can we put that in our model?\n",
        "titanic['sex_male_X_class_Second'] = titanic['age'] * titanic['class_Second']\n",
        "titanic['sex_male_X_class_Third'] = titanic['age'] * titanic['class_Third']\n",
        "model4 = sm.OLS(\n",
        "    titanic.fare,\n",
        "    sm.add_constant(titanic[['age', 'sex_male', 'class_Second', 'class_Third', 'sex_male_X_age', 'sex_male_X_class_Second', 'sex_male_X_class_Third']])\n",
        ").fit()\n",
        "model4.summary()"
      ]
    },
    {
      "cell_type": "markdown",
      "metadata": {},
      "source": [
        "What has happened to the $R^2$ as we added more features? Does this mean that the model is better? (What if we kept adding more predictors and interaction terms? We'll explore this in the next homework.)"
      ]
    },
    {
      "cell_type": "code",
      "execution_count": 32,
      "metadata": {},
      "outputs": [],
      "source": [
        "models = [model1, model2, model3, model4]\n",
        "plt.plot([model.df_model for model in models], [model.rsquared for model in models], 'x-')\n",
        "plt.xlabel(\"Model df\")\n",
        "plt.ylabel(\"$R^2$\");"
      ]
    },
    {
      "cell_type": "markdown",
      "metadata": {
        "colab_type": "text",
        "id": "QAno5_o3P5Dg"
      },
      "source": [
        "## 2. Model Selection via exhaustive search selection"
      ]
    },
    {
      "cell_type": "markdown",
      "metadata": {
        "colab_type": "text",
        "id": "DscFfMaTP5Dg"
      },
      "source": [
        "The dataset for this problem contains 10 simulated predictors and a response variable. "
      ]
    },
    {
      "cell_type": "code",
      "execution_count": 33,
      "metadata": {
        "colab": {},
        "colab_type": "code",
        "id": "au6W6nZKP5Dg",
        "outputId": "ecb008c9-3c49-4f0b-ac78-1bae613227d3"
      },
      "outputs": [],
      "source": [
        "# Import the dataset\n",
        "data = pd.read_csv('data/dataset3.txt')\n",
        "data.head()"
      ]
    },
    {
      "cell_type": "markdown",
      "metadata": {
        "colab_type": "text",
        "id": "EV0nj6vzP5Dj"
      },
      "source": [
        "**By visually inspecting the data set, do we find that some of the predictors are correlated amongst themselves?**"
      ]
    },
    {
      "cell_type": "code",
      "execution_count": 34,
      "metadata": {
        "colab": {},
        "colab_type": "code",
        "id": "0CndxvVTP5Dk",
        "outputId": "000dae40-ab66-4909-bc2c-920cd9baae18"
      },
      "outputs": [],
      "source": [
        "sns.pairplot(data)"
      ]
    },
    {
      "cell_type": "markdown",
      "metadata": {
        "colab_type": "text",
        "id": "TQW6Dx9sP5Dn"
      },
      "source": [
        "Predictors x1, x2, x3 seem to be perfectly correlated while predictors x4, x5, x6, x7 show very high degrees of correlation."
      ]
    },
    {
      "cell_type": "code",
      "execution_count": 35,
      "metadata": {
        "colab": {},
        "colab_type": "code",
        "id": "_MRTW-qNP5Dn",
        "outputId": "aa4f182a-7ac8-43ae-9593-bd7f8b340071"
      },
      "outputs": [],
      "source": [
        "data.corr()"
      ]
    },
    {
      "cell_type": "markdown",
      "metadata": {
        "colab_type": "text",
        "id": "P9qlePvMP5Dp"
      },
      "source": [
        "Let us compute the cofficient of correlation between each pair of predictors, and visualize the matrix of correlation coefficients using a heat map. "
      ]
    },
    {
      "cell_type": "code",
      "execution_count": 36,
      "metadata": {
        "colab": {},
        "colab_type": "code",
        "id": "1AKYEBe1P5Dx",
        "outputId": "0457f423-6528-48aa-b882-5a31e64edfbd"
      },
      "outputs": [],
      "source": [
        "# generating heat map\n",
        "sns.heatmap(data.corr())"
      ]
    },
    {
      "cell_type": "markdown",
      "metadata": {
        "colab_type": "text",
        "id": "HyzrCpk0P5Dz"
      },
      "source": [
        "**Do the predictors fall naturally into groups based on the correlation values?**"
      ]
    },
    {
      "cell_type": "markdown",
      "metadata": {
        "colab_type": "text",
        "id": "nbKwt-Z7P5D0"
      },
      "source": [
        "We can see that higly correlated predictors fall into dark red groups based on correlation values close to 1. Other correlation values also form differently coloured groups."
      ]
    },
    {
      "cell_type": "markdown",
      "metadata": {},
      "source": [
        "<div class=\"exercise\">**If you were asked to select a minimal subset of predictors based on the correlation information in order to build a good regression model, how many predictors will you pick, and which ones will you choose? **</div>"
      ]
    },
    {
      "cell_type": "markdown",
      "metadata": {
        "colab_type": "text",
        "id": "Oyle2qJFP5D0"
      },
      "source": [
        "** Your answer here **\n",
        "We may choose one predictor from the x1,x2,x3 list - let's pick x1. <br/>\n",
        "Similarly, let's pick x6 out of x4,x5,x6,x7. <br/>\n",
        "The other predictors are not strongly correlated, so we pick them all, i.e. x8,x9,x10. <br/>\n",
        "Thus, we have picked 5 predictors x1, x6, x8, x9, x10 for our regression model. "
      ]
    },
    {
      "cell_type": "markdown",
      "metadata": {
        "colab_type": "text",
        "id": "k33gGB0LP5D1"
      },
      "source": [
        "### Model Selection Criteria: Bayesian Information Criterion (BIC)\n",
        "\n",
        "Generally BIC = -2 x Log-likehood + 2 x log(K)\n",
        "\n",
        "For least-squares regression specifically,\n",
        "\n",
        "$$BIC = n \\log \\Big(\\frac{RSS}{n}\\Big) + \\log(n)*K$$\n",
        "\n",
        "where, <br/>\n",
        "RSS = Residual Sum of Squares <br/>\n",
        "n = the number of obervations <br/>\n",
        "K = the number of features in our model"
      ]
    },
    {
      "cell_type": "markdown",
      "metadata": {
        "colab_type": "text",
        "id": "ESjMwJc6P5D1"
      },
      "source": [
        "### Selecting minimal subset of predictors"
      ]
    },
    {
      "cell_type": "markdown",
      "metadata": {
        "colab_type": "text",
        "id": "ozeQZdW9P5D2"
      },
      "source": [
        "Let us apply the exhaustive search variable selection methods discussed in class to choose a minimal subset of predictors that yield high prediction accuracy. We will use the Bayesian Information Criterion (BIC) to choose the subset size."
      ]
    },
    {
      "cell_type": "code",
      "execution_count": 37,
      "metadata": {},
      "outputs": [],
      "source": [
        "x = data.iloc[:,:-1]\n",
        "y = data.iloc[:,-1]\n",
        "x.shape, y.shape"
      ]
    },
    {
      "cell_type": "code",
      "execution_count": 38,
      "metadata": {},
      "outputs": [],
      "source": [
        "def find_best_subset_of_size(x, y, num_predictors):\n",
        "    predictors = x.columns\n",
        "    \n",
        "    best_r_squared = -np.inf\n",
        "    best_model_data = None\n",
        "\n",
        "    # Enumerate subsets of the given size\n",
        "    subsets_of_size_k = itertools.combinations(predictors, num_predictors)\n",
        "\n",
        "    # Inner loop: iterate through subsets_k\n",
        "    for subset in subsets_of_size_k:\n",
        "\n",
        "        # Fit regression model using \u2018subset\u2019 and calculate R^2 \n",
        "        # Keep track of subset with highest R^2\n",
        "\n",
        "        features = list(subset)\n",
        "        x_subset = sm.add_constant(x[features])\n",
        "\n",
        "        model = sm.OLS(y, x_subset).fit()\n",
        "        r_squared = model.rsquared\n",
        "\n",
        "        # Check if we get a higher R^2 value than than current max R^2.\n",
        "        # If so, update our best subset \n",
        "        if r_squared > best_r_squared:\n",
        "            best_r_squared = r_squared\n",
        "            best_model_data = {\n",
        "                'r_squared': r_squared,\n",
        "                'subset': features,\n",
        "                'model': model\n",
        "            }\n",
        "    return best_model_data"
      ]
    },
    {
      "cell_type": "code",
      "execution_count": 39,
      "metadata": {},
      "outputs": [],
      "source": [
        "find_best_subset_of_size(x, y, 8)"
      ]
    },
    {
      "cell_type": "code",
      "execution_count": 40,
      "metadata": {
        "colab": {},
        "colab_type": "code",
        "id": "acthZLgNP5D3"
      },
      "outputs": [],
      "source": [
        "def exhaustive_search_selection(x, y):\n",
        "    \"\"\"Exhaustively search predictor combinations\n",
        "\n",
        "    Parameters:\n",
        "    -----------\n",
        "    x : DataFrame of predictors/features\n",
        "    y : response varible \n",
        "    \n",
        "    \n",
        "    Returns:\n",
        "    -----------\n",
        "    \n",
        "    Dataframe of model comparisons and OLS Model with \n",
        "    lowest BIC for subset with highest R^2\n",
        "    \n",
        "    \"\"\"\n",
        "    \n",
        "    predictors = x.columns\n",
        "    \n",
        "    stats = []\n",
        "    models = dict()\n",
        "    \n",
        "    # Outer loop: iterate over sizes 1, 2 .... d\n",
        "    for k in range(1, len(predictors)):\n",
        "        \n",
        "        best_size_k_model = find_best_subset_of_size(\n",
        "            x, y, num_predictors=k)\n",
        "        best_subset = best_size_k_model['subset']\n",
        "        best_model = best_size_k_model['model']\n",
        "        \n",
        "        stats.append({\n",
        "            'k': k,\n",
        "            'formula': \"y ~ {}\".format(' + '.join(best_subset)),\n",
        "            'bic': best_model.bic,\n",
        "            'r_squared': best_model.rsquared\n",
        "        })\n",
        "        models[k] = best_model\n",
        "        \n",
        "    return pd.DataFrame(stats), models"
      ]
    },
    {
      "cell_type": "code",
      "execution_count": 41,
      "metadata": {
        "colab": {},
        "colab_type": "code",
        "id": "HIaZwf7YP5EF",
        "outputId": "4e431f7f-5e93-4e19-cf4a-ad76a327b1a6"
      },
      "outputs": [],
      "source": [
        "stats, models = exhaustive_search_selection(x, y)\n",
        "stats"
      ]
    },
    {
      "cell_type": "code",
      "execution_count": 42,
      "metadata": {},
      "outputs": [],
      "source": [
        "stats.plot(x='k', y='bic', marker='*')"
      ]
>>>>>>> 47af0ee187affd252f6a0591fb7530eb56eea758
    },
    "colab_type": "code",
    "id": "zYsj6roaRLdX",
    "outputId": "7221f900-2888-4f28-f835-02d84abcb7d9"
   },
   "outputs": [
    {
<<<<<<< HEAD
     "data": {
      "text/plain": [
       "<matplotlib.axes._subplots.AxesSubplot at 0x1c176035f8>"
=======
      "cell_type": "code",
      "execution_count": 43,
      "metadata": {},
      "outputs": [],
      "source": [
        "stats.info()"
>>>>>>> 47af0ee187affd252f6a0591fb7530eb56eea758
      ]
     },
     "execution_count": 19,
     "metadata": {},
     "output_type": "execute_result"
    },
    {
<<<<<<< HEAD
     "data": {
      "image/png": "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\n",
      "text/plain": [
       "<Figure size 936x432 with 1 Axes>"
=======
      "cell_type": "code",
      "execution_count": 44,
      "metadata": {},
      "outputs": [],
      "source": [
        "best_stat = stats.iloc[stats.bic.idxmin()]\n",
        "best_stat"
>>>>>>> 47af0ee187affd252f6a0591fb7530eb56eea758
      ]
     },
     "metadata": {},
     "output_type": "display_data"
    }
   ],
   "source": [
    "sns.distplot(titanic.age, rug=True, rug_kws={'alpha': .1, 'color': 'k'})"
   ]
  },
  {
   "cell_type": "code",
   "execution_count": 20,
   "metadata": {
    "colab": {
     "base_uri": "https://localhost:8080/",
     "height": 602
    },
    "colab_type": "code",
    "id": "gnSM0FbFSXcC",
    "outputId": "c3b4451c-92bc-4097-aa44-d5d2fd95becf"
   },
   "outputs": [
    {
<<<<<<< HEAD
     "data": {
      "text/plain": [
       "<seaborn.axisgrid.FacetGrid at 0x1c180f9a90>"
=======
      "cell_type": "code",
      "execution_count": 45,
      "metadata": {},
      "outputs": [],
      "source": [
        "best_k = best_stat['k']\n",
        "best_bic = best_stat['bic']\n",
        "best_formula = best_stat['formula']\n",
        "best_r2 = best_stat['r_squared']"
>>>>>>> 47af0ee187affd252f6a0591fb7530eb56eea758
      ]
     },
     "execution_count": 20,
     "metadata": {},
     "output_type": "execute_result"
    },
    {
<<<<<<< HEAD
     "data": {
      "image/png": "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\n",
      "text/plain": [
       "<Figure size 646.5x576 with 1 Axes>"
=======
      "cell_type": "code",
      "execution_count": 46,
      "metadata": {
        "colab": {},
        "colab_type": "code",
        "id": "HIaZwf7YP5EF",
        "outputId": "4e431f7f-5e93-4e19-cf4a-ad76a327b1a6"
      },
      "outputs": [],
      "source": [
        "print(\"The best overall model is `{formula}` with bic={bic:.2f} and R^2={r_squared:.3f}\".format(\n",
        "    formula=best_formula, bic=best_bic, r_squared=best_r2))"
>>>>>>> 47af0ee187affd252f6a0591fb7530eb56eea758
      ]
     },
     "metadata": {},
     "output_type": "display_data"
    }
   ],
   "source": [
    "sns.lmplot(x=\"age\", y=\"fare\", hue=\"sex\", data=titanic, size=8)"
   ]
  },
  {
   "cell_type": "markdown",
   "metadata": {},
   "source": [
    "How about sex and class?"
   ]
  },
  {
   "cell_type": "code",
   "execution_count": 21,
   "metadata": {},
   "outputs": [
    {
     "data": {
      "text/plain": [
       "male      453\n",
       "female    259\n",
       "Name: sex, dtype: int64"
      ]
     },
     "execution_count": 21,
     "metadata": {},
     "output_type": "execute_result"
    }
   ],
   "source": [
    "titanic.sex.value_counts()"
   ]
  },
  {
   "cell_type": "code",
   "execution_count": 22,
   "metadata": {},
   "outputs": [
    {
     "data": {
      "text/plain": [
       "Third     355\n",
       "First     184\n",
       "Second    173\n",
       "Name: class, dtype: int64"
      ]
     },
     "execution_count": 22,
     "metadata": {},
     "output_type": "execute_result"
    }
   ],
   "source": [
    "titanic['class'].value_counts()\n",
    "# Why couldn't we write `titanic.class.value_counts()` here?"
   ]
  },
  {
   "cell_type": "code",
   "execution_count": 23,
   "metadata": {
    "colab": {
     "base_uri": "https://localhost:8080/",
     "height": 296
    },
    "colab_type": "code",
    "id": "SETvpblUTIfU",
    "outputId": "b9e76e3d-e8c8-4552-878b-d445969d3502"
   },
   "outputs": [
    {
<<<<<<< HEAD
     "data": {
      "text/plain": [
       "<matplotlib.axes._subplots.AxesSubplot at 0x1c1834d278>"
=======
      "cell_type": "code",
      "execution_count": 47,
      "metadata": {
        "colab": {},
        "colab_type": "code",
        "id": "WK3ebH8dP5EH",
        "outputId": "15be5197-5186-4ee1-ea19-251deba6e1cd"
      },
      "outputs": [],
      "source": [
        "models[best_k].summary()"
>>>>>>> 47af0ee187affd252f6a0591fb7530eb56eea758
      ]
     },
     "execution_count": 23,
     "metadata": {},
     "output_type": "execute_result"
    },
    {
     "data": {
      "image/png": "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\n",
      "text/plain": [
       "<Figure size 936x432 with 1 Axes>"
      ]
     },
     "metadata": {},
     "output_type": "display_data"
    }
   ],
   "source": [
    "sns.barplot(x=\"class\", hue=\"sex\", y=\"fare\", data=titanic)"
   ]
  },
  {
   "cell_type": "code",
   "execution_count": 26,
   "metadata": {},
   "outputs": [
    {
     "data": {
      "text/html": [
       "<div>\n",
       "<style scoped>\n",
       "    .dataframe tbody tr th:only-of-type {\n",
       "        vertical-align: middle;\n",
       "    }\n",
       "\n",
       "    .dataframe tbody tr th {\n",
       "        vertical-align: top;\n",
       "    }\n",
       "\n",
       "    .dataframe thead th {\n",
       "        text-align: right;\n",
       "    }\n",
       "</style>\n",
       "<table border=\"1\" class=\"dataframe\">\n",
       "  <thead>\n",
       "    <tr style=\"text-align: right;\">\n",
       "      <th></th>\n",
       "      <th>age</th>\n",
       "      <th>sex</th>\n",
       "      <th>class</th>\n",
       "      <th>embark_town</th>\n",
       "      <th>alone</th>\n",
       "      <th>fare</th>\n",
       "    </tr>\n",
       "  </thead>\n",
       "  <tbody>\n",
       "    <tr>\n",
       "      <th>0</th>\n",
       "      <td>22.0</td>\n",
       "      <td>male</td>\n",
       "      <td>Third</td>\n",
       "      <td>Southampton</td>\n",
       "      <td>False</td>\n",
       "      <td>7.2500</td>\n",
       "    </tr>\n",
       "    <tr>\n",
       "      <th>1</th>\n",
       "      <td>38.0</td>\n",
       "      <td>female</td>\n",
       "      <td>First</td>\n",
       "      <td>Cherbourg</td>\n",
       "      <td>False</td>\n",
       "      <td>71.2833</td>\n",
       "    </tr>\n",
       "    <tr>\n",
       "      <th>2</th>\n",
       "      <td>26.0</td>\n",
       "      <td>female</td>\n",
       "      <td>Third</td>\n",
       "      <td>Southampton</td>\n",
       "      <td>True</td>\n",
       "      <td>7.9250</td>\n",
       "    </tr>\n",
       "    <tr>\n",
       "      <th>3</th>\n",
       "      <td>35.0</td>\n",
       "      <td>female</td>\n",
       "      <td>First</td>\n",
       "      <td>Southampton</td>\n",
       "      <td>False</td>\n",
       "      <td>53.1000</td>\n",
       "    </tr>\n",
       "    <tr>\n",
       "      <th>4</th>\n",
       "      <td>35.0</td>\n",
       "      <td>male</td>\n",
       "      <td>Third</td>\n",
       "      <td>Southampton</td>\n",
       "      <td>True</td>\n",
       "      <td>8.0500</td>\n",
       "    </tr>\n",
       "  </tbody>\n",
       "</table>\n",
       "</div>"
      ],
      "text/plain": [
       "    age     sex  class  embark_town  alone     fare\n",
       "0  22.0    male  Third  Southampton  False   7.2500\n",
       "1  38.0  female  First    Cherbourg  False  71.2833\n",
       "2  26.0  female  Third  Southampton   True   7.9250\n",
       "3  35.0  female  First  Southampton  False  53.1000\n",
       "4  35.0    male  Third  Southampton   True   8.0500"
      ]
     },
     "execution_count": 26,
     "metadata": {},
     "output_type": "execute_result"
    }
   ],
   "source": [
    "titanic.head()"
   ]
  },
  {
   "cell_type": "code",
   "execution_count": 24,
   "metadata": {
    "colab": {
     "base_uri": "https://localhost:8080/",
     "height": 298
    },
    "colab_type": "code",
    "id": "NYT9sIlIhKIH",
    "outputId": "07620610-bd21-4cdc-b8d6-26fd891d8b62"
   },
   "outputs": [
    {
     "data": {
      "text/plain": [
       "<matplotlib.axes._subplots.AxesSubplot at 0x1c18424f60>"
      ]
     },
     "execution_count": 24,
     "metadata": {},
     "output_type": "execute_result"
    },
    {
     "data": {
      "image/png": "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\n",
      "text/plain": [
       "<Figure size 936x432 with 1 Axes>"
      ]
     },
     "metadata": {},
     "output_type": "display_data"
    }
   ],
   "source": [
    "sns.violinplot(x=\"class\", hue=\"sex\", y=\"fare\", data=titanic)"
   ]
  },
  {
   "cell_type": "code",
   "execution_count": 25,
   "metadata": {},
   "outputs": [
    {
     "data": {
      "image/png": "iVBORw0KGgoAAAANSUhEUgAAAw8AAAF3CAYAAADjMndTAAAABHNCSVQICAgIfAhkiAAAAAlwSFlzAAALEgAACxIB0t1+/AAAADl0RVh0U29mdHdhcmUAbWF0cGxvdGxpYiB2ZXJzaW9uIDIuMi4yLCBodHRwOi8vbWF0cGxvdGxpYi5vcmcvhp/UCwAAIABJREFUeJzt3XmYHHd97/vPt2ef0b7ZsiQjGRts8ApiMT7nHi8QQyCYJwcu5HISs10nF86F3ORCIME5DksuCb6HG/tAgh0HG8ckhPgY+0kgmMWGh7DYMrZleZUsy9JonX3pnt6qfvePqpFGoxmpZ7qqq7r6/Xqe8XRXV1d/Z9qtqU/9NnPOCQAAAABOJZd0AQAAAACaA+EBAAAAQE0IDwAAAABqQngAAAAAUBPCAwAAAICaEB4AAAAA1ITwAAAAAKAmhAcAAAAANSE8AAAAAKgJ4QEAAABATdqTLqAea9ascZs3b066DAAAAKBpPfLII4POubW17NvU4WHz5s3atm1b0mUAAAAATcvMXqx1X7otAQAAAKgJ4QEAAABATQgPAAAAAGrS1GMeAAAAgLlUKhX19/erWCwmXUpqdHd3a+PGjero6Fj0MQgPAAAAyJz+/n4tXbpUmzdvlpklXU7inHMaGhpSf3+/tmzZsujj0G0JAAAAmVMsFrV69WqCQ8jMtHr16rpbYggPAAAAyCSCw/Gi+H0QHgAAAICUefDBB/W2t70t6TJOwJgHAAAAZN7Wz31fg5PlyI63Zkmntn36TZEdr1nQ8gAAAIDMizI41Hq8PXv26Nxzz9WHPvQhnX/++Xrve9+rH/zgB7rssst0zjnn6KGHHtJDDz2kN7zhDbrkkkv0hje8Qc8+++wJx8nn8/rABz6g17zmNbrkkkt07733RvqzLAThAQAAAIjJrl279LGPfUzbt2/XM888o2984xv66U9/qhtvvFF//ud/rnPPPVc/+clP9Oijj+ozn/mM/viP//iEY3z+85/XlVdeqYcfflgPPPCAPv7xjyufzyfw09BtKTXe/dWfJ13CCb75u5cmXULjfe2tSVdwovf/a9IVAACARdqyZYsuuOACSdIrX/lKXXXVVTIzXXDBBdqzZ4/GxsZ07bXXaufOnTIzVSqVE45x//3367777tONN94oKZhJau/evTrvvPMa+rNIhIdM8Xynpw+OSyadf8bypMtpXYcel5yTTr9QMhr3AABoZV1dXUdv53K5o/dzuZyq1aquv/56XXHFFbrnnnu0Z88eXX755Sccwzmnu+++Wy9/+csbVfa8CA8pEcVV/v2jU3r/1x5SR1uuNVsNohDFVf5br5Iqeem935K6ltR/PAAAkFljY2PasGGDJOn222+fc5+rr75aN998s26++WaZmR599FFdcsklDazyGC6LAgAAAAn5xCc+oU996lO67LLL5HnenPtcf/31qlQquvDCC3X++efr+uuvb3CVx9DykCEsgwIAADC3NUs6I5+q9VQ2b96sHTt2HL0/s2Vh5mPPPffc0e2f/exnJUmXX3750S5MPT09+upXvxpB1fWLNTyY2R5JE5I8SVXn3FYzWyXpm5I2S9oj6X91zo1YsOTdX0n6dUkFSe9zzv0qzvqyhkUUU4Y3BACA1GjFNRni0IhuS1c45y52zm0N739S0g+dc+dI+mF4X5LeIumc8Os6SX/dgNoyxWh7SIejoYH3AwAAZEsSYx6ukXRHePsOSe+Ysf3rLvALSSvMbH0C9TUtLnQDAAAgTnGHByfpfjN7xMyuC7ed5pw7KEnh93Xh9g2S9s14bn+4DTWaDg9kiJRgmlYAAJAxcQ+Yvsw5d8DM1kn6vpk9c5J95zrndSfsFISQ6yTpzDPPjKbKjKDbUsrQFAQAADIm1kujzrkD4fcjku6R9FpJh6e7I4Xfj4S790vaNOPpGyUdmOOYtzjntjrntq5duzbO8ptOjq72KcEbAQAAsim28GBmfWa2dPq2pF+TtEPSfZKuDXe7VtK94e37JP2OBV4vaWy6exNqkwuvdNMCkRK0PAAA0NJuuukmnXfeeXrve98by/FvuOEG3XjjjbEcez5xdls6TdI9wQysapf0Defcv5nZw5L+ycw+KGmvpHeF+39HwTStuxRM1fr+GGvLpBwnq+nCmAcAANLji+dI+SOn3q9Wfeukj+886S5f+cpX9N3vfldbtmyJ7nUTFlt4cM7tlnTRHNuHJF01x3Yn6SNx1dMKcuG5KhkiYUdHrhMeAABIjSiDQw3H+73f+z3t3r1bb3/72/We97xHzz//vJ544glVq1XdcMMNuuaaa3T77bfr29/+tjzP044dO/SHf/iHKpfLuvPOO9XV1aXvfOc7WrVqlW699VbdcsstKpfLOvvss3XnnXeqt7f3uNd7/vnn9ZGPfEQDAwPq7e3VrbfeqnPPPTfan1nJTNWKmNDykDK8HwAAtKy/+Zu/0RlnnKEHHnhA+XxeV155pR5++GE98MAD+vjHP658Pi9J2rFjh77xjW/ooYce0p/8yZ+ot7dXjz76qC699FJ9/etflyT95m/+ph5++GE9/vjjOu+883Tbbbed8HrXXXedbr75Zj3yyCO68cYb9eEPfziWnyvu2ZbQQMfGPCB5vAsAACBw//3367777js6PqFYLGrv3r2SpCuuuEJLly7V0qVLtXz5cv3Gb/yGJOmCCy7Q9u3bJQUB49Of/rRGR0c1OTmpq6+++rjjT05O6mc/+5ne9a53Hd1WKpVi+VkIDxlCt6W04A0AAADHOOd099136+Uvf/lx23/5y1+qq6vr6P1cLnf0fi6XU7ValSS9733v07e//W1ddNFFuv322/Xggw8edxzf97VixQo99thj8f4gottSprQZU4Smgh39DwAAgK6++mrdfPPNCob4So8++uiCnj8xMaH169erUqnorrvuOuHxZcuWacuWLfrWt74lKQgrjz/+eP2Fz4HwkCF0W0oL400AAABHXX/99apUKrrwwgt1/vnn6/rrr1/Q8z/72c/qda97nd70pjfNOwj6rrvu0m233aaLLrpIr3zlK3XvvffOuV+9bDoBNaOtW7e6bdu2JV1Gqlz9pR+rt6td93z4sqRLaV1/92apNCH9H/+edCUAALSsp59+Wuedd96xDQlM1ZpGJ/xeJJnZI865rbU8nzEPWWMsEZc83gEAAFKnCU/004huSxnDaWsK8CYAAICMIjxkkDHdUsJMJAgAAJBFhIeM4bQ1JQhwAAAkrpnH9sYhit8H4SFrOGdNAd4EAACS1t3draGhIQJEyDmnoaEhdXd313UcBkxnjMm46J0GvAkAACRq48aN6u/v18DAQNKlpEZ3d7c2btxY1zEIDxnDOWta8EYAAJCkjo4ObdmyJekyModuSxnEZK1pwHsAAACyh/CQMXb0P0gU7wEAAMggwkMGcd6aBrwLAAAgewgPGcOYh5TgjQAAABlEeMgYxjukBe8DAADIHsJD1nDOCgAAgJgQHjKG7JASdFsCAAAZRHjIGOOkNSV4HwAAQPYQHgAAAADUhPCQMTQ8pARvBAAAyCDCQ8ZwygoAAIC4EB4AAAAA1ITwkDEMmE4L3gcAAJA9hAcAAAAANSE8ZAzXu1OCFiAAAJBBhAcAAAAANSE8ZA0XvAEAABATwkPGkB3SgncCAABkD+EBAAAAQE0IDwAAAABqQngAAAAAUBPCQ8bQ0z4leCMAAEAGER4yh7NWAAAAxIPwkDVkh5TgjQAAANlDeAAAAABQE8IDAAAAgJoQHjKGzjIAAACIC+EBAAAAQE0IDwAAAABqQngAAAAAUBPCAwAAAICaEB4AAAAA1ITwAAAAAKAmhAcAAAAANSE8AAAAAKgJ4QEAAABATWIPD2bWZmaPmtm/hPe3mNkvzWynmX3TzDrD7V3h/V3h45vjrg0AAABA7RrR8vAxSU/PuP8Xkr7knDtH0oikD4bbPyhpxDl3tqQvhfsBAAAASIlYw4OZbZT0Vkl/G943SVdK+udwlzskvSO8fU14X+HjV4X7A02I/3UBAED2xN3y8P9J+oQkP7y/WtKoc64a3u+XtCG8vUHSPkkKHx8L9z+OmV1nZtvMbNvAwECctQMAAACYIbbwYGZvk3TEOffIzM1z7OpqeOzYBuducc5tdc5tXbt2bQSVAgAAAKhFe4zHvkzS283s1yV1S1qmoCVihZm1h60LGyUdCPfvl7RJUr+ZtUtaLmk4xvoAAAAALEBsLQ/OuU855zY65zZLeo+kHznn3ivpAUnvDHe7VtK94e37wvsKH/+Rc+6ElgcAAAAAyUhinYc/kvQHZrZLwZiG28Ltt0laHW7/A0mfTKA2AAAAAPOIs9vSUc65ByU9GN7eLem1c+xTlPSuRtQDAAAAYOFYYRoAAABATQgPAAAAAGpCeAAAAABQE8IDEAsmCgMAANlDeAAAAABQE8IDAAAAgJoQHgAAAADUhPAAAAAAoCaEBwAAAAA1ITwAAAAAqAnhAQAAAEBNCA8AAAAAakJ4AAAAAFATwgMAAACAmhAeAAAAANSE8AAAAACgJoQHIBYu6QIAAAAiR3gAAAAAUBPCAxAHGh4AAEAGER4AAAAA1ITwAMSCpgcAAJA9hIeM4ZQVAAAAcSE8AAAAAKgJ4QGIg6MNCAAAZA/hAQAAAEBNCA9ZwwXvlOCNAAAA2UN4yBxOWgEAABAPwkPGEB1SgjEPAAAggwgPQCwIDwAAIHsID0AcaHkAAAAZRHjIGE5Z04J3AgAAZA/hIWs4Z00HWh4AAEAGER6AODg/6QoAAAAiR3jIGK53pwXvBAAAyB7CQ9bQXSYFHO8DAADIJMJDxnDKmhKEBwAAkEGEByBqzokYBwAAsojwkDFc8E4Dui0BAIBsIjxkDKesKeB88U4AAIAsIjxkjOOKd/Kmuy35XtKVAAAARIrwkDFEhzQI3wWvnGwZAAAAESM8ZA3pIXnTC8QRHgAAQMYQHjLGkR6SN911zKskWwcAAEDECA8Zw5CHFJhueaiWkq0DAAAgYoSHjGGFgRSYTnDVYrJ1AAAARIzwkEU0PySLlgcAAJBRhIeMcY6Wh8QdDQ+0PAAAgGwhPGQOQ6YT5XuSCA8AACCbYgsPZtZtZg+Z2eNm9qSZ/Vm4fYuZ/dLMdprZN82sM9zeFd7fFT6+Oa7asswx6CFZlakZtwvJ1QEAABCDOFseSpKudM5dJOliSW82s9dL+gtJX3LOnSNpRNIHw/0/KGnEOXe2pC+F+2GByA4JmxkevAqrTAMAgEyJLTy4wGR4tyP8cpKulPTP4fY7JL0jvH1NeF/h41eZmcVVX1Y5SY4B08mZ3dpQzidTBwAAQAxiHfNgZm1m9pikI5K+L+l5SaPOuWq4S7+kDeHtDZL2SVL4+Jik1XHWl0mOMQ+Jmh0eZrZEAAAANLlYw4NzznPOXSxpo6TXSjpvrt3C73O1MpxwHmxm15nZNjPbNjAwEF2xGeD7YXAgPSSnPLvlYXLu/QAAAJpQQ2Zbcs6NSnpQ0uslrTCz9vChjZIOhLf7JW2SpPDx5ZKG5zjWLc65rc65rWvXro279KZS9YPUQHZI0OywwKBpAACQIXHOtrTWzFaEt3skvVHS05IekPTOcLdrJd0b3r4vvK/w8R85Ou8viDcdHvi1JcP3T+ymxJgHAACQIe2n3mXR1ku6w8zaFISUf3LO/YuZPSXpH83sc5IelXRbuP9tku40s10KWhzeE2NtmVT1g/UFiA4JqeR1wm+/RLclAACQHbGFB+fcdkmXzLF9t4LxD7O3FyW9K656WsGxloeEC2lVcwUFvyJVilJHd+PrAQAAiBgrTGfIsTEPpIdElCbm3s6gaQAAkBGEhwyh5SFh5XnCw3yhAgAAoMkQHjKkSnhI1nwhgfAAAAAygvCQIZ5Ht6XEeNX5F4QjPAAAgIwgPGRIJZxtieyQgNL4/I+VJ4NpXAEAAJoc4SFDPBaJS87JWhecH07jCgAA0NwIDxlS9VgkLjGn6ppUPEnLBAAAQJMgPGSI7461PPg+AaKhTtZtSWLcAwAAyATCQ4ZUZwQGj9aHxnHu1CtJnypcAAAANAHCQ4Z4MwblerQ8NE45Lznv5PsQHgAAQAYQHjJkesyDRHhoqFqCgVeRKsX4awEAAIgR4SFDZnZVottSA9U6noFxDwAAoMnVFB4s8F/M7E/D+2ea2WvjLQ0LNXMpAc8jPDTMqcY7HN2PrksAAKC51dry8BVJl0r6rfD+hKQvx1IRFo2Wh4TUGgrKNYYMAACAlGqvcb/XOedeZWaPSpJzbsTMOmOsC4vgzwgMPuGhMbyqVK1xLAPdlgAAQJOrteWhYmZtChcvNrO1kvyTPwWNNnNtB593pzEW0ppQzgfTugIAADSpWsPDTZLukbTOzD4v6aeS/jy2qrBgzrnjzktpeWiQhYQH50uVqfhqAQAAiFlN3Zacc3eZ2SOSrpJkkt7hnHs61sqwILNnZiU8NEg5v8D9J6XO3nhqAQAAiNkpw4OZ5SRtd86dL+mZ+EvCYswOC2SHBllweFjg/gAAAClyym5Lzjlf0uNmdmYD6sEizQ4LhIcGqRTi3R8AACBFap1tab2kJ83sIUlHL506594eS1VYMCd30vuISXmh4YExDwAAoHnVGh7+LNYqUDdaHhJQLUvOW9hzaHkAAABNrNYB0z+OuxBEi+zQANVFtCJUalwTAgAAIIVqmqrVzF5vZg+b2aSZlc3MM7Mal9UFMmoxQcB5kleJvhYAAIAGqHWdh/8h6bck7ZTUI+lD4TagdXmlxT2v1hWpAQAAUqbW8CDn3C5Jbc45zzn3NUmXx1YV0Ayqiw0P5WjrAAAAaJBaB0wXzKxT0mNm9peSDkrqi68s1MuSLqAVLDY8LLbFAgAAIGG1tjz8drjvf1UwVesmSf85rqKwcGYnv48Y+Iscu+DR8gAAAJrTSVsezOxM59xe59yL4aaimLY1lYy2hsZb7MBnrxptHQAAAA1yqpaHb0/fMLO7Y64FdZjd0pCj6SF+/iJDwGJbLAAAABJ2qvAw8wz0rDgLQX2ICglYdHig5QEAADSnU4UHN89tpIzNammg4aEBFh0eFrgqNQAAQEqcarali8LF4ExSz4yF4UySc84ti7U61CxHt6XG8/3FPc8RHgAAQHM6aXhwzrU1qhDUh5aHBLjFhgca8QAAQHOqeZE4pF9uxrtJy0MDLDo8LPJ5AAAACSM8ZMjM1geyQyMssgWBlgcAANCkCA8ZMrO1gZaHNCM8AACA5kR4yJCZg6aJDjGrp/WAlgcAANCkCA8ZMnOV6bbZ0y8BAAAAdSI8ZMjxLQ+EBwAAAESL8JAhxw2Y5p0FAABAxDjFzJCZY6QZMJ1ivDcAAKBJER4yZGZg4PQ0ZgQAAADQgggPGXLcmAfObQEAABAxwkOG0G2pWfDeAACA5kR4yBROSgEAABAfwkOG0NgAAACAOBEeMoogEbO6VolmhWkAANCcCA8ZxSJxKVZX8AAAAEhObOHBzDaZ2QNm9rSZPWlmHwu3rzKz75vZzvD7ynC7mdlNZrbLzLab2aviqi2riAsN5PxkngsAAJCgOFseqpL+0Dl3nqTXS/qImb1C0icl/dA5d46kH4b3Jektks4Jv66T9Ncx1pZJ7rjbXN2OFeEBAAC0oNjCg3PuoHPuV+HtCUlPS9og6RpJd4S73SHpHeHtayR93QV+IWmFma2Pqz6gLoQHAADQghoy5sHMNku6RNIvJZ3mnDsoBQFD0rpwtw2S9s14Wn+4DTWa2ZWebvUx86vJPBcAACBBsYcHM1si6W5Jv++cGz/ZrnNsO+EU2MyuM7NtZrZtYGAgqjIzwc1IDISHmHmVxT/X96KrAwAAoIFiDQ9m1qEgONzlnPuf4ebD092Rwu9Hwu39kjbNePpGSQdmH9M5d4tzbqtzbuvatWvjK74J+TNbHhjzEK96Wg+cJ/l0XQIAAM0nztmWTNJtkp52zv33GQ/dJ+na8Pa1ku6dsf13wlmXXi9pbLp7E2rjz2hu8HzCQ6y8crLPBwAASEB7jMe+TNJvS3rCzB4Lt/2xpC9I+icz+6CkvZLeFT72HUm/LmmXpIKk98dYWyb5MwIDF7ZjVi3V+fyi1NEdTS0AAAANElt4cM79VPMvPXDVHPs7SR+Jq55W4M1seWDQQ7zqDg91Ph8AACABrDCdITO7KlVpeohXpVDf86tT0dQBAADQQISHjHDOqeox5qFhKnWe/Nf7fAAAgAQQHjKiOisszAwSiEG9LQ/lfDR1AAAANBDhISNmh4WKR7el2FSm6l/orTQRTS0AAAANRHjIiPKssFCh5SE+pcn6j1EtSh4rTQMAgOZCeMiI2S0NtDzEqHSyhdITOA4AAECDEB4yolw9PiyUql5ClbSAqdFojlOM6DgAAAANQnjIiGLl+LBQqtDyEJuoTvqjCiEAAAANQnjIiNIJLQ+Eh1iU85JXjuZYUyPRHAcAAKBBCA8ZMbvlwfMd4x7iUBiK7lheOZrB1wAAAA1CeMiIqcqJYxzm2oY6RRke4jgeAABAjAgPGeCcO6HlQZKmyoSHSDkn5SM+2c8PRns8AACAGBEeMqBU9eXP0UOpQHiI1tSI5FeiPWZhSPJ5nwAAQHMgPGRAvjT3YmPzbcci5QeiP6bzpMJw9McFAACIAeEhA+ZrYaDlIWITh+I57mRMxwUAAIgY4SEDJk/S8uCca3A1GVUclyqFeI49eTgYTwEAAJByhIcMmC88eL5jxqWoTB6O79hehVmXAABAUyA8NDnnnCaL849tmDjJY1iA8f0xH/9AvMcHAACIAOGhyeXLnjx//i4vE8WIZwdqRVMjUmUq3teYPMysSwAAIPUID01ubOrk4eBUj6MGjWgV8Kvxdo0CAACIAOGhyY0VTh4OxqcYNF0X35PGDzbmtcZi7hoFAABQJ8JDkztVy4LnO02w3sPiTRyKfmG4+RQGpXJMMzoBAABEgPDQxEpVr6aF4EbzdF1atLH+bL8eAADAAhAemtipuixNGy6UY64ko0oT0lSDV38e2yf5fmNfEwAAoEaEhyZWaygYKZTln2RGJsxjdG/jX9Mrs+I0AABILcJDExuarC08eJ7TOFO2LoxXSW4A88iLybwuAADAKRAemlShXNVUufZ1AQZrDBoIje2TXELrLhRHg7UlAAAAUobw0KQGJxYWBgYnSzFVkkHOJX/1f2RPsq8PAAAwB8JDkzoyUVzQ/pPFhbVUtLTxA1J1Yb/fyE0cZtpWAACQOoSHJlSqehqtcaalmQYmaH04Jeek4d1JVyEpLXUAAAAcQ3hoQosNAYcX2FrRkvIDUnky6SoC4/ulCu8ZAABID8JDEzo0trgTyrFCha5LpzK4M+kKjnG+NPJC0lUAAAAcRXhoMsXK4rosTTs0zpXseU0clkrjSVdxvNG9tD4AAIDUIDw0mYOLbHU49vypiCrJGOekoRS1OkxzvjT8fNJVAAAASCI8NBXnnA6M1nfyXyh5Gq1xZeqWMnFQKk0kXcXcxvqlcj7pKgAAAAgPzWQ4X45kzEL/CK0Px/F9afC5pKuYn/PTNRYDAAC0LMJDE9lfZ6vDtCMTRZWrfiTHyoTRF6VKygPVxEFpajTpKgAAQIsjPDSJYsWLbJ0G348uiDS9alkaapIxBQPPJF0BAABocYSHJrFvuCDnojte/0hBvh/hAZvV0E7JX/zsVQ01NSKNH0y6CgAA0MIID02g4vmRtxSUKj6LxhXHpdF9SVexMANPSz5rdQAAgGQQHprA/pEpVb3oWwn2DBbkomzOaCbOSUeektRkP3+1JA3tSroKAADQoggPKef5Ti8OF2I5dr5U1cBkNOMoms5Yf9ANqBkNv5DeaWUBAECmER5Sbv/IlCoxzoy0eyDfeq0P1bI0+GzSVdTBSYefUqSDYAAAAGpAeEixqufrhaF4FwebLFZ1JKJZnJrGwNOS1ySDpOczNRy0ngAAADQQ4SHF9g4XYm11mPb8kcnWaX3ID0rjB5KuIhoDzwZjIAAAABqE8JBSxYoX21iH2QplrzVWnfY96fCOpKuIjl8JB30DAAA0BuEhpXYP5OXFMMPSvK83mFfFy/iq04M707+S9EJNHJImDiddBQAAaBGEhxQaL1Z0oMErQFeqvvYMxju+IlFTo9LInqSriMeRJ5t/DAcAAGgKhIeUcc7puUPJTMO5d7igyVI1kdeOle+H3ZUyOq6jWgrGPwAAAMQstvBgZn9nZkfMbMeMbavM7PtmtjP8vjLcbmZ2k5ntMrPtZvaquOpKuwNjRY0WkrmK7Jz07KHxRF47ViMtsC7C2D6pMJx0FQAAIOPibHm4XdKbZ237pKQfOufOkfTD8L4kvUXSOeHXdZL+Osa6Uqtc9bXzcLInuSP5xneZilU53zorMh/eEbSyAAAAxCS28OCc+4mk2ZdCr5F0R3j7DknvmLH96y7wC0krzGx9XLWl1XOHJ1Rt4CDpk9VRqnpJlxGNw09JrkVOqMt5aXh30lUAAIAMa/SYh9OccwclKfy+Lty+QdK+Gfv1h9taxpGJog6NFZMuQ5JU9ZyeTWjcRaTGD0iFwaSraKzh54MQAQAAEIO0DJi2ObbNeQnezK4zs21mtm1gYCDmshqj4vmpO1k/Ml7S4fF0hJlF8arSkaeTrqLxnB+0tgAAAMSg0eHh8HR3pPD7kXB7v6RNM/bbKGnOZYCdc7c457Y657auXbs21mIb5dlDEypV0te15plDTdx9afh5ySsnXUUyCoPSZDaCNQAASJdGh4f7JF0b3r5W0r0ztv9OOOvS6yWNTXdvyrrD4+nprjRbperr6YPpahGpSbmQ3TUdajXwNIOnAQBA5OKcqvUfJP1c0svNrN/MPijpC5LeZGY7Jb0pvC9J35G0W9IuSbdK+nBcdaVJseLp6YPpnhp1cKKk/pFC0mUszOBzrTNIej7lfDB9KwAAQITa4zqwc+635nnoqjn2dZI+ElctaeSc05MHxlMxu9Kp7Dw8qZW9nerriu1/l+iUJqWJlmi0OrXh3dLyTVIuLUObAABAs+OsIiEvDhU0km+OPvme7/TE/jH5fvqDTsus6VCLalEa70+6CgAAkCGEhwSMFSp6fmAy6TIWZLJY1a6011yZkiYOJV1Fugy/kHQFAAAgQwgPDVbxfO2mNH2BAAAb4UlEQVQ4MCbXBBfxZ9s7VNDARCnpMuY3tl/zzPDbuioFKT+UdBUAACAjCA8N9szBCU2Vm3T6U0lPHRxXsZLC+p2TxvYmXUU68XsBAAARaYIRsNnRP1Jo7oXXFEzf+uSBMb3qzJUym2ttv4QUR6VqBK0iP/yz+o8x8mJ0x5Kkq/5bfc+fHAimbWXgNAAAqBNnEw0yWarqucNNuGbCHEbyFe0ezCddxvHyg0lXkF7Ok6ZGkq4CAABkAC0PDeD5Tk/0j2Vqza49g3mt6u3Uyr7OpEsJRBUe6r3KLx1rcYjiWFHJD0h9q5OuAgAANDlaHhrg2UMTypeqSZcRKeekHQfGVK6mJBGVstGqExt+PwAAIAKEh5gdHi/qwOhU0mXEolTx9VQaVsiuFIOuOZhfJWXdzAAAQFOi21KMihVPT6fh5DpGgxMl7RsuaNOq3uSKqBSSe+1mUSkGzUVpGuSece/+6s+TLuE43/zdS5MuAQCQAYSHmDjn9OSBMVW97K87sPPIhFb2dWpJV0L/OzXjohkNx++oWTjp6HTIzx8JFmZ86bolkqSejrakygIAQBLhITZ7hwsayVeSLqMhfF96cv+YXrN5lXK5BK5sczUdKbTYK/3OOf34uQFVPae//N4zkqSPXnmOlna363VnMegdAJAsxjzEIF+q6vmByaTLaKiJYlUvDifUfYjwcGrGR71ZmJlOX959wvb1y3sSqAYAgONxRhEx55yePjieqWlZa/XC4KQmk5hVqqOv8a/ZbDp6CVlNZPPqvuPW9Otsz2nDSsIDACB5dFuK2P7RKY0WWqO70my+Lz1zcFxbN69q7Au3d0ptHZLXmr/3mnQSsJpJd0ebNq48NgnBljV9akuiS2Cz+9pbk67gRO//16QrAIC60PIQoYrna9eR1uquNNtooaJDY8XGv3DX8sa/ZjPp5vfTbM5c1SuTlDPThhW0OiSiWpTKk9LBR4MvpjwGAFoeovT8wGRLzK50KjuPTGjNkk61tzUwmy5ZJxUiWmU6i5asS7oCLFB3R5va23Jqy1kyExFkQb1X+YdfkAaeObZq/Fv/X2nDq+uvCwCaGC0PEZkqe9o/ks3F4BaqVPG1r9G/iyWnNfb1mklHj9S1NOkqsAgdbTm1ExySs2yDlJtxjW3FS5KrBQBSgvAQkT1DeZYbmGHvcEGe38BfSEe31Ms0lnNatjHpCrBIbSbGOiSpvfNYYMh1SH1rkq0HAFKAbksRKFY8HRyj1WGmStXX/pEpnbm6gStPr9wiFYYa93rNwHLSijOTrgKLZGbKMUtWsla+RJJJ7SdOn4vWwYrxwDG0PERg/+hUS07Neir7Rhq87sOStVLnksa+Ztot2xBcPUVzIjckr70r6LrU1pF0JWhyOw6M6Yn9Y0mXAdSNlocIHE5idqEmMFX2NDZV0fKeBv7RXfMy6cCvGvd6aWZt0uqzk64C9XASvSFToK1DJLnWFsWV/rf/j5+qXPVpNUDTIzzUabxYUaHs1X2cv/zeMxFUI+0LV3mO4nifuPrcuo9xeLzY2PCw9DSpdw0zL0nS6pcGY0HQtHwGUgGZkaMbIjKCbkt1Gp4sJ11Cqg0l8ftZd17Q17+VdfQEY0DQ1Kq+U7WREw9gbl5FtAEBQICWhzpNlqqRHCeKq/zSsRaHqI5Xr0K5Kt93jZ2nvmtJ0F1n8LnGvWbanH6hlGvxANXkfN+pXPWZbSlpxXHJr0jVUtKVoMn5ztGaiEwgPNRpvFhJuoRUc06aKFUb23VJkladJU0ekYqjjX3dNFi5RepdlXQVqNP+0angZMNzGposafWSrqRLaj2+Jx16IrhdKUjlvNTZl2xNaFq+H4SHhl9Qy5KvvbW+5ztPR1sRLae6O+DUuxBlk+LSZJ3KVaZZOpVStf4xIQtmJq2/8PgFnlpB19Jg0DiaWqFc1a6ByaP3nz44oYrHvzUN5fvSgUel0ni4wUn9D0sVpuXG4kz3QCzzWU5OpSAd3B58Vel2vlgtdmYVPRogU6yzTzr9guAEoBXk2qUzLqG7UpMrV309tndUnnfsX5dixdP2/lFdsmklVywbwasG/27MnnihMiXt/YW06bW0QGARgs80XZfqUO+V/oPbpXuuC26/+05p2Rn119SCOMtAti09vXUGDp9+ISc0Ta5c9fWrvSNzzuA2kq/o8f7Rxq7c3op8T9q/bf4Z26rFIECU842tC01v+qNbqfIZTgVC3KIRHurU2cav8FQS/x2tfbnUuzrZGuK26qXBNLVoWsWKp20vDmuyOP8kDEOTZT22b4QuTHFxLmhxmBo5+X5eWdr3EIOosSCObkvJ8r3jLwrkB5Krpclx5lunJV30/DqVxH9HZkF3no7eZOuIy5LTpDXnJF0F6jBWqOihF4ZVKJ16fNBIvqKH9wyrUI5mpjeEnJMOba/9hKJaDMZA0G8aNXPhf7ni3XC+H3y+Zwb+iYPSyIvJ1dTECA91WtpNeDiZns42tSfd8iAFK8Ru3CrlGjzrU9y6lknrLwoCEpqOc057hwp6ZO/wgiZfKJQ8/fKFYR0eZ3X7SBTHgq5I4wcW9rzShPTiT6WJQ3SBQA2Cf6dZKK7BiuPSvl8En9PZjjwlHXyciwALxJlvnVb3dWn3AH1f57N6SWfSJRzT2SdteFVwtdBloNm4vVva8Gop15Z0JViEyVJVzxwc12hhcdM9e57TE/1jOrysqJedtlTdHfx/sCCVopQ/Io0flKaGF3+caino6tTRKy3fKC1ZF8x6Bszg+e5oiwPdDhukUpSGdkpj+3XS6W3GD0iTA9Lqs6QVm5l0pAaEhzot7+1Qb1dbTd0NWtH65T1Jl3C83lXBDEwHH0+6kvrkwpaUju6kK8ECFSueXhjM68DoVCQXq4+MlzQ0WdamVb16yepedaShpS9tnJPKk0ELw9RoMKahPHnq5y1EpRAsTDn4nNTeJfWsknpWSN3LgxZCQn5LG84fu7I9NFlO39/GLHFOGnlBGtwVrutQA78iDTwrje6V1r1SWrI23hqbHOEhAmcs79GuIxH/IcqAvq72xi8OV4tlZwRTLjbrCtSWC1pQuLrZVIoVT3uHC+ofKciP+MKj5zvtGcyrf6SgM1f1atOqFg4RlWIQDEoTx76XJms/iYhCtRT0p544GG6woOWza0kQJDqXBLc7euly2CL2jx5bH+TIRFEVb2nrfkbjdmj7wrsgTqtMBbOtnX5B0JKIOREeIrBhZY/2DOVV9ejzOtPmNSkeoLz6pcGAx9G9SVeycKdfwArSTaRY8bRnKGhpiDo0zFb1nHYP5LV3uKBNq3p1ZlZDhHPBH/mjISEf3C7nJT+NA8nDlo/y5PH9ri0XBIiuJUGg6FwShIzOJXSdyBDPD1aJn+b70uBkidaHODgXdEWs1/hBwsNJEB4i0NGW01lrlui5wxNJl5Iay3o6dPqylHepWfeK4Arh5OGkK6nd2nNZ1KZJVDxfewbz2hdDS8OpVD2nFwby2jdc0ObVfTpzVW/zLi7nXLDKc3Es+EqiJSEuzj8WKo4z3VKxVOpeJnWH3Z/o+tSUSlXvhC6KU3Os5YIImEl9a+qfhrUv49O714nwEJGNK3vUP1KYc3GnVvSy05bI0t4cbyatvzhoopye1/0HN9R/3Omp3374mfqPJUlvvCH4vuIl0qoWWfCuyR0aK+q5wxMLmkEpDlXPadeRSR0YndK565dpVV+KJjA4lfygNLZPyg8F/ZFbysyWivAqquWknpXBxYOlZ9Ay0eRS//exmXWvqD889KyMppaMIjxEJJcznbd+mX61d6TlZ+zbsLJHK3qb5CQll5M2vfbY/X+/qf5j9kTcpehlV0d7PMSmWPH07KEJDUyka/GwQtnTr14c0YaVPTpn3ZJ0TJ98MsXxYFY0HON8qTAUfPlVaeXmpCtCjSpzdGmuMuNSPIpj0lgE3ZEHdwbToLd31X+sDCI8RGhlX6c2r+nTCy08dWtfV7tedloTD+R9/78mXQGakO877RspaPdgXl6Kxz7tH5nS4GRJZ69botOXdaf36mf3sqBVcPC5YBajxfrhn0VTz9HWxAiOd9V/W/xzcx1B6+PyM+uvAw0zMHHieiwDE8HnMLWfwWbiXBCqR/dG1w25MCS98JNg3MOyDcG/STiK8BCxs9b0aSRfXvTc7c0sl5PO37BMbc3atxpYoGLF04HRKfWPTCXeRalWpYqvJ/eP64WBvDau7NXpy7vV2Z7Clohl66WlpwfddgafCwZIt6pcu7TqrKDrYht/tpvJZKmqvcMnBuBC2dOeoYK2rOlLoKoM8KrBCX7+SBAYvBjOufyqNLIn+Orsk5acHoyn6FnZ8rOk8a9QxMxM529Yrof3DKtUaY6Tiaict36ZlnancGpWIEJTZU8DEyUNTBY1km/eiwSFsqfnDk9o55EJrerr1Lpl3VqzpFNd7SkalGsW9PHvWyu98OOFnyDUc5V/pukWh6iOt1Abt9IHuwmVq7627xudd8KE3QOTWtrdrjVL6BpTk9JkMJYhPxgs7NjIxV7LeWn4+eAr1xGEiL61wfcW7NpEeIhBd0ebLt60QtteHEl1F4YonbW2j2nnkEm+7zRSKGsoX9bgZClzC0I6FyxaNTQZLGK1tLtdq5d0ac2STi3v6Ui+W4XvS2P98VxZbBaj+4LpW9u4ONMsihVPj+0bPekkKs5J2/tHdf6G5Vq3NOWzEybB94+1LuQH0tP66FeOX8ele3kYJNYGt5P+N7MBCA8xWdrdoQs2LNfj+0YzP4D69OXdOmvtkqTLACJTrvoamCxpYKKkkXxZnp/xD/EME8WqJopV7RnMq73NtLqvS2uXBmGioQOtq+VgtqXRvcGaLK1sfH/QNWPZBmnFmcG6EEilctXXwbEpvTBY29pPvi9t3zem05eX9JLVvbTeV4ph68KRYKa1ZpiSeXoa6aFdQStE31qpb13QKpHR6ZUJDzFas6RL561fpqcOjCddSmxWL+nUK9YzkAjZUKx42nVkUkcminWvzfCX33um7nr2hX2lozjWJ64+d8HPqXpOh8eLOjxeVFub6YzlPXrp2r74Q8TgLml4d3OcODSKX5VGXwy+lp4unXYB4x9SoFjxNFmqanyqopFCRWNT5UX923ForKhDY0X1drVpdV+Xlvd0aGl3u3o725Jv/YuT70lTo1JhMOiOVDrF+VIUkxbEOQFCtRS0lI71h9MrrwrWjOhdHawun5H3kn95YnbGih55vtOzh7K3gNzKvg5duHFF8y4+BcyyZyivQ2MtfpV7Hp7ntG+4oN7ONm1aFfPq8aVxgsPJTK+kTXiInec7FSte8FX1Vax4mip7mqp4ypeqNbUuLESh5KlQKmhfeD+Xk3o6ghDR09mmno42dXXk1N3Rpu72tnROdnAyR8PCUDBuoTjW2LELjeT8IBQVBoP7uQ6pd2UQKHpXNXWY4F+eBti0qleeHyzWlBXLezt00cYVzKyETHnZuqVa2t2hQ2NTdS/4mIvkj4JFdqyujvpOMpZ2d+iM5d1a14iV4ze8Kui+UBgMFnAsjkveItbOuP/T0dQzfaXyR5+t/1i/9rmFPyfXHq42vSLoCtHVxNNhp4RzTqWqH355KlVm3K764X0v8nCwUL4v5UtV5UvVOR/P5aSu9jZ1teeC7x25Y7fbc0HQaG9L9iKfV5UmDkgTh+sf6BzFpAVJTYDgV6TJI8GXdGzg9fSkEE0UJAgPDbJ5TZ9857Q7A2tALOvp0MWbVqR/oSlggXI504YVPdqwov7B/8t7dtV9jAs3Lq/7GNP+4zlrIztWQ3R0B3OsL9+4+GN0RzRD0RkRznT00iujOxZOqVT1NDZVUb4UtBSUqp6mykEwWMh4xLR2Q/T9YAa4qbInaf5JBTrac+puz6mns029nW3q7WzXsp4O9TWiW9TQzmC6Uxzv6MDrQ9IZl0hLT0u6opoRHhrorLXBgjDPN3ELxPLeIDh0EByAk/rm716adAlg0ceWli9VtWP/mCaKc1+1byWVqq9K1T/ud9HVkdOWNX3auDLmbojrzpOWbwq6KpXGgylXy/ng5Hmh0j7moRbtXVLn0mDig+7lwXiIJpvuNVXhwczeLOmvJLVJ+lvn3BcSLily0wvCNGOAIDgAAJpFX1e7XnfWanm+U6FcPTpWoVgJxi6UvaB7UtnzTjnIeTETDsw23eIQxbFq0dE+3YUp6MbUHY6VmB4/0dA1XbqWnDhLmFeVtMBuYT+7qf5aolwz5ew3Lmx/y2ViBqbUhAcza5P0ZUlvktQv6WEzu88591SylUVvy5o+5Uzaebh5AsSKXroqAQCaT1vOtLS7Y95pUJ1zqnhOZc9XuTrjywuCxvT2Unj1PkltOVNXe06dYSDoDG93tufU2RaMcehsC75SP5nJYgb8v/+70deBBUtNeJD0Wkm7nHO7JcnM/lHSNZIyFx4k6SWr+2QyPXc4/bMwrewLBkcTHAAAWWNm6my3YOaiU/Qe8X133MDqqbKnYtU7Ou5gqrKwsRSzdbbnjrYMdHeEX+1Bi0FXe46/w0iFNIWHDdLR2cmkoPXhdQnV0hBnru6VmbTzyIT+4rv1D6CSjg3I+mIEA7L+6C3nakVvJ7MqAQBa2ru/+vOa9/V8J893qvpOFc+XC9PECX+fzdSRM7W35dSWM7XlTLX+pWVMFZKUpvAw12fmhPxuZtdJuk6SzjzzzLhrit2mVb3atKpXX/3x7kiOt6K3M5LjSNKV5zbPyH8AANJgOggEf42P9W+P8u8zkCRz9bSvRcjMLpV0g3Pu6vD+pyTJOff/zPecrVu3um3btjWoQgAAACB7zOwR59zWWvZNU+e5hyWdY2ZbzKxT0nsk3ZdwTQAAAABCqem25Jyrmtl/lfQ9Be18f+ecezLhsgAAAACEUhMeJMk59x1J30m6DgAAAAAnSlO3JQAAAAApRngAAAAAUBPCAwAAAICaEB4AAAAA1ITwAAAAAKAmhAcAAAAANSE8AAAAAKgJ4QEAAABATQgPAAAAAGpCeAAAAABQE3POJV3DopnZgKQXk64DsVgjaTDpIgBEgs8zkB18nrPpJc65tbXs2NThAdllZtucc1uTrgNA/fg8A9nB5xl0WwIAAABQE8IDAAAAgJoQHpBWtyRdAIDI8HkGsoPPc4tjzAMAAACAmtDyAAAAAKAmhAc0lJl5ZvbYjK/NZrbVzG5awDFWmNmH46wTQMDM/sTMnjSz7eFn9nUNfv3LzexfGvmaQKsws9Uz/h4fMrP94e1RM3tqnud8xszeWMOxN5vZjuirRtLaky4ALWfKOXfxrG17JG2bvaOZtTvnqnMcY4WkD0v6SvTlAZhmZpdKepukVznnSma2RlJnwmUBiIhzbkjSxZJkZjdImnTO3WhmmyXNGdqdc38613Yza3POefFUijSh5QGJm3ll0cxuMLNbzOx+SV83s1ea2UPhlZDtZnaOpC9Iemm47YuJFg9k23pJg865kiQ55wadcwfM7NVm9mMze8TMvmdm6yXJzM42sx+Y2eNm9isze6kFvmhmO8zsCTN7d7jv5Wb2oJn9s5k9Y2Z3mZmFj7053PZTSb+Z1A8PtLg2M7s1bHm838x6JMnMbjezd4a395jZn4af1XeF/zY8bmY/l/SRJItHfAgPaLSeGU2k98yzz6slXeOc+98k/Z6kvwpbK7ZK6pf0SUnPO+cuds59vDFlAy3pfkmbzOw5M/uKmf0nM+uQdLOkdzrnXi3p7yR9Ptz/Lklfds5dJOkNkg4qOPm/WNJFkt4o6YvTYUPSJZJ+X9IrJJ0l6TIz65Z0q6TfkPQfJZ3egJ8TwInOUfB5fqWkUUn/eZ79is65/+Cc+0dJX5P0UefcpY0qEo1HtyU02lzdlma7zzk3Fd7+uaQ/MbONkv6nc25neHESQMycc5Nm9moFJ/FXSPqmpM9JOl/S98PPYpukg2a2VNIG59w94XOLkmRm/0HSP4TdGQ6b2Y8lvUbSuKSHnHP94X6PSdosaVLSC865neH2v5d0XWN+YgAzvOCceyy8/YiCz+dcvilJZrZc0grn3I/D7XdKekusFSIRhAekUX76hnPuG2b2S0lvlfQ9M/uQpN2JVQa0mPCk/0FJD5rZEwq6Ijw5+8qimS2b5xAnS/ulGbc9HfubxBziQPJmfz575tlv+m+2ic9uS6DbElLNzM6StNs5d5Ok+yRdKGlC0tJECwNagJm9PBxnNO1iSU9LWhsOppaZdZjZK51z45L6zewd4fYuM+uV9BNJ7zazNjNbK+l/kfTQSV72GUlbzOyl4f3fivjHAhAD59yopLGwtVGS3ptkPYgP4QFp925JO8IuDedK+no4O8S/hwMwGTANxGeJpDvM7Ckz265gbMKfSnqnpL8ws8clPaZgfIMk/bakj4b7/kzBeIV7JG2X9LikH0n6hHPu0HwvGHZ3uk7Sv4aDMF+M5ScDEIf3S/pyOGB66lQ7ozmxwjQAAACAmtDyAAAAAKAmhAcAAAAANSE8AAAAAKgJ4QEAAABATQgPAAAAAGpCeACAFmFmq83ssfDrkJntn3H/Z6d47oNmtnUBr/X74ToPcz3WYWZfMLOd4ZTLD5nZW8LH9pjZmoX9ZACARmGFaQBoEeEaKRdLkpndIGnSOXdjTC/3+5L+XlJhjsc+K2m9pPOdcyUzO03Sf4qpDgBAhGh5AADIzCZn3P6EmT1hZo+b2Rdm7ZczszvM7HPh/V8zs5+b2a/M7FtmtsTMPirpDEkPmNkDs57fK+l/l/R/OudKkuScO+yc+6c5avq2mT1iZk+a2XXhtjYzuz1ssXjCzP6vcPtHpxezM7N/jPa3AwCYRssDAOCosPvQOyS9zjlXMLNVMx5ul3SXpB3Ouc+H3Ys+LemNzrm8mf2RpD9wzn3GzP5A0hXOucFZL3G2pL3OufEayvmAc27YzHokPWxmd0vaLGmDc+78sN4V4b6flLQlbMlYMffhAAD1ouUBADDTGyV9zTlXkCTn3PCMx76qMDiE918v6RWS/t3MHpN0raSXRFjLR83scUm/kLRJ0jmSdks6y8xuNrM3S5oOIdsl3WVm/0VSNcIaAAAzEB4AADOZJDfPYz+TdIWZdc/Y9/vOuYvDr1c45z54iuPvknSmmS09aRFmlysIMpc65y6S9KikbufciKSLJD0o6SOS/jZ8ylslfVnSqyU9Yma0rANADAgPAICZ7pf0gemZkmZ1W7pN0nckfSs8Of+FpMvM7Oxw314ze1m474SkEwJC2KJxm6SbzKwzfN76sMVgpuWSRsKuU+cqaOVQ2FUq55y7W9L1kl5lZjlJm5xzD0j6hKQVkpbU+4sAAJyI8AAAOMo592+S7pO0LeyK9H/Pevy/S/qVpDslDUl6n6R/MLPtCsLEueGut0j67uwB06FPSxqQ9JSZ7ZD07fD+TP8mqT087mfDY0vSBkkPhrXdLulTktok/b2ZPaGgheJLzrnRRf0CAAAnZc7N1zoNAAAAAMfQ8gAAAACgJoQHAAAAADUhPAAAAACoCeEBAAAAQE0IDwAAAABqQngAAAAAUBPCAwAAAICaEB4AAAAA1OT/B5RWCW4B2jjkAAAAAElFTkSuQmCC\n",
      "text/plain": [
       "<Figure size 936x432 with 1 Axes>"
      ]
     },
     "metadata": {},
     "output_type": "display_data"
    }
   ],
   "source": [
    "# Can we do this violinplot by hand?\n",
    "classes = 'First Second Third'.split()\n",
    "sexes = 'male female'.split()\n",
    "violin_data = [\n",
    "    [\n",
    "        titanic['fare'][(titanic['sex'] == sex) & (titanic['class'] == cls)].values\n",
    "        for cls in classes\n",
    "    ] for sex in sexes\n",
    "]\n",
    "\n",
    "positions_array = np.arange(len(classes))\n",
    "v1 = plt.violinplot(violin_data[0], positions=positions_array-.2, widths=.3, showmedians=True, showextrema=True)\n",
    "v2 = plt.violinplot(violin_data[1], positions=positions_array+.2, widths=.3, showmedians=True, showextrema=True)\n",
    "\n",
    "# Violin plots don't support legends, so we create patches for labels. This is messy :(\n",
    "fake_handles = [\n",
    "    mpatches.Patch(color=v1['cbars'].get_color()[0]),\n",
    "    mpatches.Patch(color=v2['cbars'].get_color()[0])\n",
    "]\n",
    "plt.legend(fake_handles, sexes)\n",
    "\n",
    "plt.xticks(positions_array, classes)\n",
    "plt.xlabel(\"Ticket Class\")\n",
    "plt.ylabel(\"Fare\");"
   ]
  },
  {
   "cell_type": "markdown",
   "metadata": {
    "colab_type": "text",
    "id": "fJK_rkcPTpD5"
   },
   "source": [
    "So it looks like fare varies with class, age, and maybe gender, and the way that fare depends on class and age may be different for male vs female.\n",
    "\n",
    "Let's first do a simple linear regression on age."
   ]
  },
  {
   "cell_type": "code",
   "execution_count": 16,
   "metadata": {
    "colab": {
     "base_uri": "https://localhost:8080/",
     "height": 444
    },
    "colab_type": "code",
    "id": "JudMdrUpTpbL",
    "outputId": "3ace581b-b847-40c8-a580-b580391b8b36"
   },
   "outputs": [],
   "source": [
    "model1 = sm.OLS(\n",
    "    titanic.fare,\n",
    "    sm.add_constant(titanic['age'])\n",
    ").fit()\n",
    "model1.summary()"
   ]
  },
  {
   "cell_type": "markdown",
   "metadata": {
    "colab_type": "text",
    "id": "zrHXCrJNf1xc"
   },
   "source": [
    "How do we interpret this?\n",
    "\n",
    "* How good is this model?\n",
    "* Does age affect fare? How can we tell? And if so, how?"
   ]
  },
  {
   "cell_type": "markdown",
   "metadata": {},
   "source": [
    "### Handling categorical variables"
   ]
  },
  {
   "cell_type": "markdown",
   "metadata": {
    "colab_type": "text",
    "id": "w8eMLGl7gNlP"
   },
   "source": [
    "Statistical packages generally distinguish between three types of variables:\n",
    "\n",
    "* **continuous** variables, like age and fare.\n",
    "* **nominal** variables, like gender and whether the person survived\n",
    "* **ordinal** variables like cabin class (first > second > third)\n",
    "\n",
    "(Ordinal variables can often be treated like nominal variables; that's what we'll do for now.)"
   ]
  },
  {
   "cell_type": "markdown",
   "metadata": {
    "colab_type": "text",
    "id": "ESeqInU9Tnt5"
   },
   "source": [
    "How do we deal with gender, or class? They're categorical variables. We'll need to use dummy variables to encode them."
   ]
  },
  {
   "cell_type": "code",
   "execution_count": 17,
   "metadata": {},
   "outputs": [],
   "source": [
    "titanic_orig = titanic.copy()"
   ]
  },
  {
   "cell_type": "markdown",
   "metadata": {},
   "source": [
    "<div class=\"exercise\">**Exercise 2**: Create a column `sex_male` that is 1 if the passenger is male, 0 otherwise.</div>"
   ]
  },
  {
   "cell_type": "code",
   "execution_count": 18,
   "metadata": {},
   "outputs": [],
   "source": [
    "# Your code here\n"
   ]
  },
  {
   "cell_type": "markdown",
   "metadata": {},
   "source": [
    "<div class=\"exercise\">**Exercise 3**: Do we need a `sex_female` column, or any others? Why or why not?</div>"
   ]
  },
  {
   "cell_type": "markdown",
   "metadata": {},
   "source": [
    "**your answer here**\n"
   ]
  },
  {
   "cell_type": "markdown",
   "metadata": {},
   "source": [
    "<div class=\"exercise\">**Exercise 4**: Create columns for `class_`</div>"
   ]
  },
  {
   "cell_type": "code",
   "execution_count": 19,
   "metadata": {},
   "outputs": [],
   "source": [
    "# Your code here\n"
   ]
  },
  {
   "cell_type": "code",
   "execution_count": 20,
   "metadata": {},
   "outputs": [],
   "source": [
    "titanic.info()"
   ]
  },
  {
   "cell_type": "code",
   "execution_count": 21,
   "metadata": {
    "colab": {
     "base_uri": "https://localhost:8080/",
     "height": 204
    },
    "colab_type": "code",
    "id": "qTxXqm6wW22a",
    "outputId": "e8f01d1a-ea5f-4711-a41f-96d92d13e507"
   },
   "outputs": [],
   "source": [
    "# Your code here\n"
   ]
  },
  {
   "cell_type": "markdown",
   "metadata": {},
   "source": [
    "<div class=\"exercise\">**Exercise 5**: Fit a linear regression including the new sex and class variables.</div>"
   ]
  },
  {
   "cell_type": "code",
   "execution_count": 22,
   "metadata": {
    "colab": {
     "base_uri": "https://localhost:8080/",
     "height": 507
    },
    "colab_type": "code",
    "id": "ZtEXD-ZWYGuT",
    "outputId": "b991b04a-5e5c-4080-b128-67b5415f8c50"
   },
   "outputs": [],
   "source": [
    "# Your code here\n"
   ]
  },
  {
   "cell_type": "markdown",
   "metadata": {
    "colab_type": "text",
    "id": "zl3IDAtqP5Ck"
   },
   "source": [
    "<div class='exercise'> **Exercise 6** How do we interpret these results?</div>\n",
    "* All else being equal, what does being male do to the fare?\n",
    "* What can we say about being *male* and *first-class*?\n"
   ]
  },
  {
   "cell_type": "markdown",
   "metadata": {},
   "source": [
    "** Your answer here **"
   ]
  },
  {
   "cell_type": "markdown",
   "metadata": {},
   "source": [
    "## Interactions"
   ]
  },
  {
   "cell_type": "code",
   "execution_count": 23,
   "metadata": {
    "colab": {
     "base_uri": "https://localhost:8080/",
     "height": 528
    },
    "colab_type": "code",
    "id": "8oRObtxEYlGi",
    "outputId": "ca3661e0-6f01-4128-9ecb-cd36775ae462"
   },
   "outputs": [],
   "source": [
    "# It seemed like gender interacted with age and class. Can we put that in our model?\n",
    "titanic['sex_male_X_age'] = titanic['age'] * titanic['sex_male']\n",
    "model3 = sm.OLS(\n",
    "    titanic.fare,\n",
    "    sm.add_constant(titanic[['age', 'sex_male', 'class_Second', 'class_Third', 'sex_male_X_age']])\n",
    ").fit()\n",
    "model3.summary()"
   ]
  },
  {
   "cell_type": "markdown",
   "metadata": {
    "colab": {},
    "colab_type": "code",
    "id": "uuOUlHs5Zdxr"
   },
   "source": [
    "** What happened to the `age` and `male` terms? **"
   ]
  },
  {
   "cell_type": "code",
   "execution_count": 24,
   "metadata": {
    "colab": {
     "base_uri": "https://localhost:8080/",
     "height": 570
    },
    "colab_type": "code",
    "id": "29Nbm25-ZoOj",
    "outputId": "91eb202e-6da3-4ecb-e76d-1d7a5b5a2617"
   },
   "outputs": [],
   "source": [
    "# It seemed like gender interacted with age and class. Can we put that in our model?\n",
    "titanic['sex_male_X_class_Second'] = titanic['age'] * titanic['class_Second']\n",
    "titanic['sex_male_X_class_Third'] = titanic['age'] * titanic['class_Third']\n",
    "model4 = sm.OLS(\n",
    "    titanic.fare,\n",
    "    sm.add_constant(titanic[['age', 'sex_male', 'class_Second', 'class_Third', 'sex_male_X_age', 'sex_male_X_class_Second', 'sex_male_X_class_Third']])\n",
    ").fit()\n",
    "model4.summary()"
   ]
  },
  {
   "cell_type": "markdown",
   "metadata": {},
   "source": [
    "What has happened to the $R^2$ as we added more features? Does this mean that the model is better?"
   ]
  },
  {
   "cell_type": "code",
   "execution_count": 25,
   "metadata": {},
   "outputs": [],
   "source": [
    "models = [model1, model2, model3, model4]\n",
    "plt.plot([model.df_model for model in models], [model.rsquared for model in models], 'x-')\n",
    "plt.xlabel(\"Model df\")\n",
    "plt.ylabel(\"$R^2$\");"
   ]
  },
  {
   "cell_type": "markdown",
   "metadata": {
    "colab_type": "text",
    "id": "QAno5_o3P5Dg"
   },
   "source": [
    "## 2. Model Selection via exhaustive search selection"
   ]
  },
  {
   "cell_type": "markdown",
   "metadata": {
    "colab_type": "text",
    "id": "DscFfMaTP5Dg"
   },
   "source": [
    "The dataset for this problem contains 10 simulated predictors and a response variable. "
   ]
  },
  {
   "cell_type": "code",
   "execution_count": 26,
   "metadata": {
    "colab": {},
    "colab_type": "code",
    "id": "au6W6nZKP5Dg",
    "outputId": "ecb008c9-3c49-4f0b-ac78-1bae613227d3"
   },
   "outputs": [],
   "source": [
    "# Import the dataset\n",
    "data = pd.read_csv('data/dataset3.txt')\n",
    "data.head()"
   ]
  },
  {
   "cell_type": "markdown",
   "metadata": {
    "colab_type": "text",
    "id": "EV0nj6vzP5Dj"
   },
   "source": [
    "**By visually inspecting the data set, do we find that some of the predictors are correlated amongst themselves?**"
   ]
  },
  {
   "cell_type": "code",
   "execution_count": 27,
   "metadata": {
    "colab": {},
    "colab_type": "code",
    "id": "0CndxvVTP5Dk",
    "outputId": "000dae40-ab66-4909-bc2c-920cd9baae18"
   },
   "outputs": [],
   "source": [
    "sns.pairplot(data)"
   ]
  },
  {
   "cell_type": "markdown",
   "metadata": {
    "colab_type": "text",
    "id": "TQW6Dx9sP5Dn"
   },
   "source": [
    "Predictors x1, x2, x3 seem to be perfectly correlated while predictors x4, x5, x6, x7 show very high degrees of correlation."
   ]
  },
  {
   "cell_type": "code",
   "execution_count": 28,
   "metadata": {
    "colab": {},
    "colab_type": "code",
    "id": "_MRTW-qNP5Dn",
    "outputId": "aa4f182a-7ac8-43ae-9593-bd7f8b340071"
   },
   "outputs": [],
   "source": [
    "data.corr()"
   ]
  },
  {
   "cell_type": "markdown",
   "metadata": {
    "colab_type": "text",
    "id": "P9qlePvMP5Dp"
   },
   "source": [
    "Let us compute the cofficient of correlation between each pair of predictors, and visualize the matrix of correlation coefficients using a heat map. "
   ]
  },
  {
   "cell_type": "code",
   "execution_count": 29,
   "metadata": {
    "colab": {},
    "colab_type": "code",
    "id": "1AKYEBe1P5Dx",
    "outputId": "0457f423-6528-48aa-b882-5a31e64edfbd"
   },
   "outputs": [],
   "source": [
    "# generating heat map\n",
    "sns.heatmap(data.corr())"
   ]
  },
  {
   "cell_type": "markdown",
   "metadata": {
    "colab_type": "text",
    "id": "HyzrCpk0P5Dz"
   },
   "source": [
    "**Do the predictors fall naturally into groups based on the correlation values?**"
   ]
  },
  {
   "cell_type": "markdown",
   "metadata": {
    "colab_type": "text",
    "id": "nbKwt-Z7P5D0"
   },
   "source": [
    "We can see that higly correlated predictors fall into dark red groups based on correlation values close to 1. Other correlation values also form differently coloured groups."
   ]
  },
  {
   "cell_type": "markdown",
   "metadata": {},
   "source": [
    "<div class=\"exercise\">**If you were asked to select a minimal subset of predictors based on the correlation information in order to build a good regression model, how many predictors will you pick, and which ones will you choose? **</div>"
   ]
  },
  {
   "cell_type": "markdown",
   "metadata": {
    "colab_type": "text",
    "id": "Oyle2qJFP5D0"
   },
   "source": [
    "** Your answer here **\n",
    "We may choose one predictor from the x1,x2,x3 list - let's pick x1. <br/>\n",
    "Similarly, let's pick x6 out of x4,x5,x6,x7. <br/>\n",
    "The other predictors are not strongly correlated, so we pick them all, i.e. x8,x9,x10. <br/>\n",
    "Thus, we have picked 5 predictors x1, x6, x8, x9, x10 for our regression model. "
   ]
  },
  {
   "cell_type": "markdown",
   "metadata": {
    "colab_type": "text",
    "id": "k33gGB0LP5D1"
   },
   "source": [
    "### Model Selection Criteria: Bayesian Information Criterion (BIC)\n",
    "\n",
    "Generally BIC = -2 x Log-likehood + 2 x log(K)\n",
    "\n",
    "For least-squares regression specifically,\n",
    "\n",
    "$$BIC = n \\log \\Big(\\frac{RSS}{n}\\Big) + \\log(n)*K$$\n",
    "\n",
    "where, <br/>\n",
    "RSS = Residual Sum of Squares <br/>\n",
    "n = the number of obervations <br/>\n",
    "K = the number of features in our model"
   ]
  },
  {
   "cell_type": "markdown",
   "metadata": {
    "colab_type": "text",
    "id": "ESjMwJc6P5D1"
   },
   "source": [
    "### Selecting minimal subset of predictors"
   ]
  },
  {
   "cell_type": "markdown",
   "metadata": {
    "colab_type": "text",
    "id": "ozeQZdW9P5D2"
   },
   "source": [
    "Let us apply the exhaustive search variable selection methods discussed in class to choose a minimal subset of predictors that yield high prediction accuracy. We will use the Bayesian Information Criterion (BIC) to choose the subset size."
   ]
  },
  {
   "cell_type": "code",
   "execution_count": 30,
   "metadata": {},
   "outputs": [],
   "source": [
    "x = data.iloc[:,:-1]\n",
    "y = data.iloc[:,-1]\n",
    "x.shape, y.shape"
   ]
  },
  {
   "cell_type": "code",
   "execution_count": 31,
   "metadata": {},
   "outputs": [],
   "source": [
    "def find_best_subset_of_size(x, y, num_predictors):\n",
    "    predictors = x.columns\n",
    "    \n",
    "    best_r_squared = -np.inf\n",
    "    best_model_data = None\n",
    "\n",
    "    # Enumerate subsets of the given size\n",
    "    subsets_of_size_k = itertools.combinations(predictors, num_predictors)\n",
    "\n",
    "    # Inner loop: iterate through subsets_k\n",
    "    for subset in subsets_of_size_k:\n",
    "\n",
    "        # Fit regression model using ‘subset’ and calculate R^2 \n",
    "        # Keep track of subset with highest R^2\n",
    "\n",
    "        features = list(subset)\n",
    "        x_subset = sm.add_constant(x[features])\n",
    "\n",
    "        model = sm.OLS(y, x_subset).fit()\n",
    "        r_squared = model.rsquared\n",
    "\n",
    "        # Check if we get a higher R^2 value than than current max R^2.\n",
    "        # If so, update our best subset \n",
    "        if r_squared > best_r_squared:\n",
    "            best_r_squared = r_squared\n",
    "            best_model_data = {\n",
    "                'r_squared': r_squared,\n",
    "                'subset': features,\n",
    "                'model': model\n",
    "            }\n",
    "    return best_model_data"
   ]
  },
  {
   "cell_type": "code",
   "execution_count": 32,
   "metadata": {},
   "outputs": [],
   "source": [
    "find_best_subset_of_size(x, y, 8)"
   ]
  },
  {
   "cell_type": "code",
   "execution_count": 33,
   "metadata": {
    "colab": {},
    "colab_type": "code",
    "id": "acthZLgNP5D3"
   },
   "outputs": [],
   "source": [
    "def exhaustive_search_selection(x, y):\n",
    "    \"\"\"Exhaustively search predictor combinations\n",
    "\n",
    "    Parameters:\n",
    "    -----------\n",
    "    x : DataFrame of predictors/features\n",
    "    y : response varible \n",
    "    \n",
    "    \n",
    "    Returns:\n",
    "    -----------\n",
    "    \n",
    "    Dataframe of model comparisons and OLS Model with \n",
    "    lowest BIC for subset with highest R^2\n",
    "    \n",
    "    \"\"\"\n",
    "    \n",
    "    predictors = x.columns\n",
    "    \n",
    "    stats = []\n",
    "    models = dict()\n",
    "    \n",
    "    # Outer loop: iterate over sizes 1, 2 .... d\n",
    "    for k in range(1, len(predictors)):\n",
    "        \n",
    "        best_size_k_model = find_best_subset_of_size(\n",
    "            x, y, num_predictors=k)\n",
    "        best_subset = best_size_k_model['subset']\n",
    "        best_model = best_size_k_model['model']\n",
    "        \n",
    "        stats.append({\n",
    "            'k': k,\n",
    "            'formula': \"y ~ {}\".format(' + '.join(best_subset)),\n",
    "            'bic': best_model.bic,\n",
    "            'r_squared': best_model.rsquared\n",
    "        })\n",
    "        models[k] = best_model\n",
    "        \n",
    "    return pd.DataFrame(stats), models"
   ]
  },
  {
   "cell_type": "code",
   "execution_count": 34,
   "metadata": {
    "colab": {},
    "colab_type": "code",
    "id": "HIaZwf7YP5EF",
    "outputId": "4e431f7f-5e93-4e19-cf4a-ad76a327b1a6"
   },
   "outputs": [],
   "source": [
    "stats, models = exhaustive_search_selection(x, y)\n",
    "stats"
   ]
  },
  {
   "cell_type": "code",
   "execution_count": 35,
   "metadata": {},
   "outputs": [],
   "source": [
    "stats.plot(x='k', y='bic', marker='*')"
   ]
  },
  {
   "cell_type": "code",
   "execution_count": 36,
   "metadata": {},
   "outputs": [],
   "source": [
    "stats.info()"
   ]
  },
  {
   "cell_type": "code",
   "execution_count": 37,
   "metadata": {},
   "outputs": [],
   "source": [
    "best_stat = stats.iloc[stats.bic.idxmin()]\n",
    "best_stat"
   ]
  },
  {
   "cell_type": "code",
   "execution_count": 38,
   "metadata": {},
   "outputs": [],
   "source": [
    "best_k = best_stat['k']\n",
    "best_bic = best_stat['bic']\n",
    "best_formula = best_stat['formula']\n",
    "best_r2 = best_stat['r_squared']"
   ]
  },
  {
   "cell_type": "code",
   "execution_count": 39,
   "metadata": {
    "colab": {},
    "colab_type": "code",
    "id": "HIaZwf7YP5EF",
    "outputId": "4e431f7f-5e93-4e19-cf4a-ad76a327b1a6"
   },
   "outputs": [],
   "source": [
    "print(\"The best overall model is `{formula}` with bic={bic:.2f} and R^2={r_squared:.3f}\".format(\n",
    "    formula=best_formula, bic=best_bic, r_squared=best_r2))"
   ]
  },
  {
   "cell_type": "code",
   "execution_count": 40,
   "metadata": {
    "colab": {},
    "colab_type": "code",
    "id": "WK3ebH8dP5EH",
    "outputId": "15be5197-5186-4ee1-ea19-251deba6e1cd"
   },
   "outputs": [],
   "source": [
    "models[best_k].summary()"
   ]
  },
  {
   "cell_type": "markdown",
   "metadata": {
    "colab_type": "text",
    "id": "v5zN2PzfP5EI"
   },
   "source": [
    "**Do the chosen subsets match the ones you picked using the correlation matrix you had visualized?**"
   ]
  },
  {
   "cell_type": "markdown",
   "metadata": {
    "colab_type": "text",
    "id": "g2oOfNNpP5EJ"
   },
   "source": [
    "Yes! The predictor subset matches with the ones we picked before."
   ]
  },
  {
   "cell_type": "code",
   "execution_count": null,
   "metadata": {
    "colab": {},
    "colab_type": "code",
    "id": "N0W-TBrqP5EJ"
   },
   "outputs": [],
   "source": []
  },
  {
   "cell_type": "markdown",
   "metadata": {
    "colab_type": "text",
    "id": "g6ogxoMjP5BR"
   },
   "source": [
    "## Plotting multiple axes in a single figure\n",
    "\n",
    "![](https://i.imgur.com/XTzSuoR.png)\n",
    "source: http://matplotlib.org/faq/usage_faq.html\n",
    "\n",
    "See also [this](http://matplotlib.org/faq/usage_faq.html) matplotlib tutorial."
   ]
  },
  {
   "cell_type": "code",
   "execution_count": null,
   "metadata": {},
   "outputs": [],
   "source": []
  }
 ],
 "metadata": {
  "colab": {
   "collapsed_sections": [
    "QAno5_o3P5Dg",
    "k33gGB0LP5D1",
    "ESjMwJc6P5D1"
   ],
   "name": "section_3_solutions.ipynb",
   "provenance": [],
   "toc_visible": true,
   "version": "0.3.2"
  },
  "kernelspec": {
   "display_name": "Python 3",
   "language": "python",
   "name": "python3"
  },
  "language_info": {
   "codemirror_mode": {
    "name": "ipython",
    "version": 3
   },
   "file_extension": ".py",
   "mimetype": "text/x-python",
   "name": "python",
   "nbconvert_exporter": "python",
   "pygments_lexer": "ipython3",
   "version": "3.6.5"
  }
 },
 "nbformat": 4,
 "nbformat_minor": 1
}
